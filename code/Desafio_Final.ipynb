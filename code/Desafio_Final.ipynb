{
 "cells": [
  {
   "cell_type": "markdown",
   "metadata": {
    "id": "gDI3gzZerLoe"
   },
   "source": [
    "# <font color = 'Red'> **Desafio de Dados**</font> $→$ <font color = 'GREY'> **FieldPRO**</font>\n"
   ]
  },
  {
   "cell_type": "markdown",
   "metadata": {
    "id": "DtP8U5XeOaK8"
   },
   "source": [
    "## <font color='Blue'> **1° Entender o Problema de Negócio**  </font>"
   ]
  },
  {
   "cell_type": "markdown",
   "metadata": {
    "id": "txRcXSWNLFgQ"
   },
   "source": [
    "#### <font color = 'Chocolate'> **Objetivio**</font>\n",
    "- *O objetivo deste desafio é construir um modelo de calibração de um sensor de chuva baseado em impactos mecânicos*."
   ]
  },
  {
   "cell_type": "markdown",
   "metadata": {
    "id": "vialH2N3PMCm"
   },
   "source": [
    "####  <font color = 'Chocolate'> **Descrição do problema**</font>"
   ]
  },
  {
   "cell_type": "markdown",
   "metadata": {
    "id": "604BeDSRPFxj"
   },
   "source": [
    "\n",
    "O sistema de medição de chuva funciona por meio de uma placa eletrônica com um piezoelétrico, um acumulador de carga e um sensor de temperatura. Os dados são transmitidos de hora em hora.\n",
    "\n",
    "O impacto das gotas de chuva gera vibrações no piezoelétrico, que induzem uma corrente elétrica. A corrente elétrica não é medida diretamente, mas é acumulada ao longo do tempo e gera uma queda na carga do acumulador.\n",
    "\n",
    "A carga do acumulador é medida de hora em hora e transmitida com o\n",
    "nome de `piezo_charge`. A temperatura da placa é transmitida sob o nome\n",
    "`piezo_temperature` e pode ser importante na calibração.\n",
    "\n",
    "Um evento de reset na placa pode afetar o comportamento do acumulador de\n",
    "carga, e o número total de resets da placa desde que foi ligada pela primeira vez é transmitido com o nome `num_of_resets`.\n",
    "\n",
    "As medidas realizadas pelo sensor estão no arquivo `Sensor_FieldPRO`.csv, para comparação, foram utilizadas medidas de uma estação metereológica próxima, que estão no arquivo `Estacao_Convencional.csv`.\n",
    "\n",
    "Outras medidas que podem ser úteis na modelagem são: a temperatura do ar externo `air_temperature_100`, umidade relativa do ar externo `air_humidity_100` e a pressão atmosférica `atm_pressure_main`.\n",
    "\n",
    "As medidas do sensor incluem a carga medida no acumulador, a temperatura da placa, o número de resets da placa e as condições atmosféricas do ambiente.\n",
    "\n",
    "**Bônus:** *Realizar o deploy do modelo em uma plataforma de cloud.\n",
    "Boa Sorte!*"
   ]
  },
  {
   "cell_type": "markdown",
   "metadata": {
    "id": "t9b6jVo7NcxD"
   },
   "source": [
    "#### <font color = 'Chocolate'> **Descrição das Variáveis em mabas as bases de Dados**</font>"
   ]
  },
  {
   "cell_type": "markdown",
   "metadata": {
    "id": "NeKuBVlaLCJz"
   },
   "source": [
    "- **piezo_charge.** $→$ *Carga do acumulador*\n",
    "\n",
    "- **piezo_temperature** $→$ *Temperatura da placa*\n",
    "\n",
    "- **num_of_resets.** $→$ *Número total de resets da placa*\n",
    "\n",
    "- **air_humidity_100** $→$ *Umidade relativa do ar externo*\n",
    "\n",
    "- **air_temperature_100** $→$ *Temperatura do ar externo*\n",
    "\n",
    "- **atm_pressure_main** $→$ *Pressão atmosférica*\n",
    "\n",
    "- **Hora (Brasília)** $→$ *Fuso horário* (hora)\n",
    "- **Datetime – utc** $→$ *Data*\n",
    "- **chuva** $→$ *Chuva*"
   ]
  },
  {
   "cell_type": "markdown",
   "metadata": {
    "id": "h9VSRVCfSgth"
   },
   "source": [
    "## <font color='Blue'> **2° Entendendo os Dados**  </font> $ →$ <font color='Black'> *Análise Exploratória de Dados (EDA)*  </font>\n",
    "\n"
   ]
  },
  {
   "cell_type": "markdown",
   "metadata": {
    "id": "hhWtu_1RtDir"
   },
   "source": [
    "#### **Bibliotecas**"
   ]
  },
  {
   "cell_type": "code",
   "execution_count": 3,
   "metadata": {
    "colab": {
     "base_uri": "https://localhost:8080/"
    },
    "id": "C1Lls9tJrOQz",
    "outputId": "b8031cb0-7863-430a-d764-43778e83ef0e"
   },
   "outputs": [],
   "source": [
    "# Importando as Bibliotecas e Funções Necessárias\n",
    "import shap\n",
    "import pandas as pd\n",
    "import numpy as np\n",
    "import seaborn as sns\n",
    "import matplotlib.pyplot as plt\n",
    "import math\n",
    "\n",
    "from sklearn.model_selection import train_test_split\n",
    "from sklearn.ensemble import RandomForestRegressor\n",
    "from sklearn.tree import DecisionTreeRegressor\n",
    "from sklearn.metrics import mean_squared_error,r2_score, mean_absolute_percentage_error, mean_absolute_error\n",
    "from sklearn.preprocessing import MinMaxScaler\n",
    "from sklearn.model_selection import cross_val_score, GridSearchCV\n",
    "\n",
    "# Configurações de Ambiente\n",
    "pd.set_option('display.max_rows', None)\n",
    "pd.set_option('display.max_columns', None)\n",
    "pd.set_option('display.float_format', lambda x: '%.2f' % x)\n",
    "sns.set_theme(color_codes=True)\n",
    "\n",
    "# Ignorando Alertas\n",
    "import warnings\n",
    "warnings.filterwarnings(\"ignore\")\n",
    "\n",
    "# Exibindo os gráfico nesse Notebook\n",
    "%matplotlib inline"
   ]
  },
  {
   "cell_type": "markdown",
   "metadata": {
    "id": "bKAFrUfhsw47"
   },
   "source": [
    " #### **Importando os Dados**"
   ]
  },
  {
   "cell_type": "code",
   "execution_count": 4,
   "metadata": {
    "id": "3W7LCG3Cswlm"
   },
   "outputs": [],
   "source": [
    "df_sensor = pd.read_csv('./data/Sensor_FieldPRO.csv')\n",
    "df_estacao = pd.read_csv('./data/Estacao_Convencional.csv')"
   ]
  },
  {
   "cell_type": "markdown",
   "metadata": {
    "id": "8vAgVtbtXtB0"
   },
   "source": [
    "##### **Visualizando os Dados**"
   ]
  },
  {
   "cell_type": "code",
   "execution_count": 5,
   "metadata": {
    "colab": {
     "base_uri": "https://localhost:8080/",
     "height": 206
    },
    "id": "w_Ij3BllX2YK",
    "outputId": "b5a4b7a2-1231-4a9a-810d-72984ea6b41f"
   },
   "outputs": [
    {
     "data": {
      "text/html": [
       "<div>\n",
       "<style scoped>\n",
       "    .dataframe tbody tr th:only-of-type {\n",
       "        vertical-align: middle;\n",
       "    }\n",
       "\n",
       "    .dataframe tbody tr th {\n",
       "        vertical-align: top;\n",
       "    }\n",
       "\n",
       "    .dataframe thead th {\n",
       "        text-align: right;\n",
       "    }\n",
       "</style>\n",
       "<table border=\"1\" class=\"dataframe\">\n",
       "  <thead>\n",
       "    <tr style=\"text-align: right;\">\n",
       "      <th></th>\n",
       "      <th>Datetime – utc</th>\n",
       "      <th>air_humidity_100</th>\n",
       "      <th>air_temperature_100</th>\n",
       "      <th>atm_pressure_main</th>\n",
       "      <th>num_of_resets</th>\n",
       "      <th>piezo_charge</th>\n",
       "      <th>piezo_temperature</th>\n",
       "    </tr>\n",
       "  </thead>\n",
       "  <tbody>\n",
       "    <tr>\n",
       "      <th>0</th>\n",
       "      <td>2020-09-30T23:00:00Z</td>\n",
       "      <td>38.00</td>\n",
       "      <td>31.37</td>\n",
       "      <td>9412</td>\n",
       "      <td>0</td>\n",
       "      <td>45123</td>\n",
       "      <td>30</td>\n",
       "    </tr>\n",
       "    <tr>\n",
       "      <th>1</th>\n",
       "      <td>2020-10-01T00:00:00Z</td>\n",
       "      <td>NaN</td>\n",
       "      <td>NaN</td>\n",
       "      <td>9412</td>\n",
       "      <td>0</td>\n",
       "      <td>45025</td>\n",
       "      <td>31</td>\n",
       "    </tr>\n",
       "    <tr>\n",
       "      <th>2</th>\n",
       "      <td>2020-10-01T01:00:00Z</td>\n",
       "      <td>39.00</td>\n",
       "      <td>31.37</td>\n",
       "      <td>9419</td>\n",
       "      <td>0</td>\n",
       "      <td>44923</td>\n",
       "      <td>31</td>\n",
       "    </tr>\n",
       "    <tr>\n",
       "      <th>3</th>\n",
       "      <td>2020-10-01T02:00:00Z</td>\n",
       "      <td>39.00</td>\n",
       "      <td>31.32</td>\n",
       "      <td>9419</td>\n",
       "      <td>0</td>\n",
       "      <td>44825</td>\n",
       "      <td>31</td>\n",
       "    </tr>\n",
       "    <tr>\n",
       "      <th>4</th>\n",
       "      <td>2020-10-01T03:00:00Z</td>\n",
       "      <td>38.00</td>\n",
       "      <td>31.24</td>\n",
       "      <td>9416</td>\n",
       "      <td>0</td>\n",
       "      <td>44728</td>\n",
       "      <td>31</td>\n",
       "    </tr>\n",
       "  </tbody>\n",
       "</table>\n",
       "</div>"
      ],
      "text/plain": [
       "         Datetime – utc  air_humidity_100  air_temperature_100  \\\n",
       "0  2020-09-30T23:00:00Z             38.00                31.37   \n",
       "1  2020-10-01T00:00:00Z               NaN                  NaN   \n",
       "2  2020-10-01T01:00:00Z             39.00                31.37   \n",
       "3  2020-10-01T02:00:00Z             39.00                31.32   \n",
       "4  2020-10-01T03:00:00Z             38.00                31.24   \n",
       "\n",
       "   atm_pressure_main  num_of_resets  piezo_charge  piezo_temperature  \n",
       "0               9412              0         45123                 30  \n",
       "1               9412              0         45025                 31  \n",
       "2               9419              0         44923                 31  \n",
       "3               9419              0         44825                 31  \n",
       "4               9416              0         44728                 31  "
      ]
     },
     "execution_count": 5,
     "metadata": {},
     "output_type": "execute_result"
    }
   ],
   "source": [
    "df_sensor.head()"
   ]
  },
  {
   "cell_type": "markdown",
   "metadata": {
    "id": "DN7fPwCDddyo"
   },
   "source": [
    "- **Verificando informações dos dados**"
   ]
  },
  {
   "cell_type": "code",
   "execution_count": 6,
   "metadata": {
    "colab": {
     "base_uri": "https://localhost:8080/"
    },
    "id": "7VWKLPzmdn79",
    "outputId": "8e7d232e-2523-4800-aa4c-1e362d477d8b"
   },
   "outputs": [
    {
     "data": {
      "text/plain": [
       "(1711, 7)"
      ]
     },
     "execution_count": 6,
     "metadata": {},
     "output_type": "execute_result"
    }
   ],
   "source": [
    "df_sensor.shape"
   ]
  },
  {
   "cell_type": "code",
   "execution_count": 7,
   "metadata": {
    "colab": {
     "base_uri": "https://localhost:8080/"
    },
    "id": "pHHoQXKfdBrP",
    "outputId": "ea4e51a7-0c1c-4c7d-ce58-1ba3a468ebc5"
   },
   "outputs": [
    {
     "name": "stdout",
     "output_type": "stream",
     "text": [
      "<class 'pandas.core.frame.DataFrame'>\n",
      "RangeIndex: 1711 entries, 0 to 1710\n",
      "Data columns (total 7 columns):\n",
      " #   Column               Non-Null Count  Dtype  \n",
      "---  ------               --------------  -----  \n",
      " 0   Datetime – utc       1711 non-null   object \n",
      " 1   air_humidity_100     1705 non-null   float64\n",
      " 2   air_temperature_100  1705 non-null   float64\n",
      " 3   atm_pressure_main    1711 non-null   int64  \n",
      " 4   num_of_resets        1711 non-null   int64  \n",
      " 5   piezo_charge         1711 non-null   int64  \n",
      " 6   piezo_temperature    1711 non-null   int64  \n",
      "dtypes: float64(2), int64(4), object(1)\n",
      "memory usage: 93.7+ KB\n"
     ]
    }
   ],
   "source": [
    "df_sensor.info()"
   ]
  },
  {
   "cell_type": "code",
   "execution_count": 8,
   "metadata": {
    "colab": {
     "base_uri": "https://localhost:8080/"
    },
    "id": "v88rHt5Zc5s9",
    "outputId": "23460b8c-f399-473f-aaf1-97c58db0a2cc"
   },
   "outputs": [
    {
     "data": {
      "text/plain": [
       "Datetime – utc          object\n",
       "air_humidity_100       float64\n",
       "air_temperature_100    float64\n",
       "atm_pressure_main        int64\n",
       "num_of_resets            int64\n",
       "piezo_charge             int64\n",
       "piezo_temperature        int64\n",
       "dtype: object"
      ]
     },
     "execution_count": 8,
     "metadata": {},
     "output_type": "execute_result"
    }
   ],
   "source": [
    "df_sensor.dtypes"
   ]
  },
  {
   "cell_type": "code",
   "execution_count": 9,
   "metadata": {
    "colab": {
     "base_uri": "https://localhost:8080/",
     "height": 206
    },
    "id": "AF5XezpbX5uX",
    "outputId": "3da2e24e-1b27-4570-ac3a-da4c015d4980"
   },
   "outputs": [
    {
     "data": {
      "text/html": [
       "<div>\n",
       "<style scoped>\n",
       "    .dataframe tbody tr th:only-of-type {\n",
       "        vertical-align: middle;\n",
       "    }\n",
       "\n",
       "    .dataframe tbody tr th {\n",
       "        vertical-align: top;\n",
       "    }\n",
       "\n",
       "    .dataframe thead th {\n",
       "        text-align: right;\n",
       "    }\n",
       "</style>\n",
       "<table border=\"1\" class=\"dataframe\">\n",
       "  <thead>\n",
       "    <tr style=\"text-align: right;\">\n",
       "      <th></th>\n",
       "      <th>data</th>\n",
       "      <th>Hora (Brasília)</th>\n",
       "      <th>chuva</th>\n",
       "    </tr>\n",
       "  </thead>\n",
       "  <tbody>\n",
       "    <tr>\n",
       "      <th>0</th>\n",
       "      <td>2020-09-01</td>\n",
       "      <td>00:00:00</td>\n",
       "      <td>0.00</td>\n",
       "    </tr>\n",
       "    <tr>\n",
       "      <th>1</th>\n",
       "      <td>2020-09-01</td>\n",
       "      <td>01:00:00</td>\n",
       "      <td>0.00</td>\n",
       "    </tr>\n",
       "    <tr>\n",
       "      <th>2</th>\n",
       "      <td>2020-09-01</td>\n",
       "      <td>02:00:00</td>\n",
       "      <td>0.00</td>\n",
       "    </tr>\n",
       "    <tr>\n",
       "      <th>3</th>\n",
       "      <td>2020-09-01</td>\n",
       "      <td>03:00:00</td>\n",
       "      <td>0.00</td>\n",
       "    </tr>\n",
       "    <tr>\n",
       "      <th>4</th>\n",
       "      <td>2020-09-01</td>\n",
       "      <td>04:00:00</td>\n",
       "      <td>0.00</td>\n",
       "    </tr>\n",
       "  </tbody>\n",
       "</table>\n",
       "</div>"
      ],
      "text/plain": [
       "         data Hora (Brasília)  chuva\n",
       "0  2020-09-01        00:00:00   0.00\n",
       "1  2020-09-01        01:00:00   0.00\n",
       "2  2020-09-01        02:00:00   0.00\n",
       "3  2020-09-01        03:00:00   0.00\n",
       "4  2020-09-01        04:00:00   0.00"
      ]
     },
     "execution_count": 9,
     "metadata": {},
     "output_type": "execute_result"
    }
   ],
   "source": [
    "df_estacao.head()"
   ]
  },
  {
   "cell_type": "code",
   "execution_count": 10,
   "metadata": {
    "colab": {
     "base_uri": "https://localhost:8080/"
    },
    "id": "wEtkd82vdzJp",
    "outputId": "e651c5de-0f76-4c03-a9f5-f9672dadde77"
   },
   "outputs": [
    {
     "data": {
      "text/plain": [
       "(2256, 3)"
      ]
     },
     "execution_count": 10,
     "metadata": {},
     "output_type": "execute_result"
    }
   ],
   "source": [
    "df_estacao.shape"
   ]
  },
  {
   "cell_type": "code",
   "execution_count": 11,
   "metadata": {
    "colab": {
     "base_uri": "https://localhost:8080/"
    },
    "id": "Mbm4TxTTd3Cz",
    "outputId": "df576bf3-ed49-4177-9818-bc4a579567c0"
   },
   "outputs": [
    {
     "data": {
      "text/plain": [
       "data                object\n",
       "Hora (Brasília)     object\n",
       "chuva              float64\n",
       "dtype: object"
      ]
     },
     "execution_count": 11,
     "metadata": {},
     "output_type": "execute_result"
    }
   ],
   "source": [
    "df_estacao.dtypes"
   ]
  },
  {
   "cell_type": "markdown",
   "metadata": {
    "id": "9ZYeI0WUe0p4"
   },
   "source": [
    "##### **Verificando valores ausentes**"
   ]
  },
  {
   "cell_type": "code",
   "execution_count": 12,
   "metadata": {},
   "outputs": [
    {
     "data": {
      "text/html": [
       "<div>\n",
       "<style scoped>\n",
       "    .dataframe tbody tr th:only-of-type {\n",
       "        vertical-align: middle;\n",
       "    }\n",
       "\n",
       "    .dataframe tbody tr th {\n",
       "        vertical-align: top;\n",
       "    }\n",
       "\n",
       "    .dataframe thead th {\n",
       "        text-align: right;\n",
       "    }\n",
       "</style>\n",
       "<table border=\"1\" class=\"dataframe\">\n",
       "  <thead>\n",
       "    <tr style=\"text-align: right;\">\n",
       "      <th></th>\n",
       "      <th>variable</th>\n",
       "      <th>number_of_missing</th>\n",
       "      <th>percentage_of_missing</th>\n",
       "    </tr>\n",
       "  </thead>\n",
       "  <tbody>\n",
       "    <tr>\n",
       "      <th>0</th>\n",
       "      <td>air_humidity_100</td>\n",
       "      <td>6</td>\n",
       "      <td>0.35%</td>\n",
       "    </tr>\n",
       "    <tr>\n",
       "      <th>1</th>\n",
       "      <td>air_temperature_100</td>\n",
       "      <td>6</td>\n",
       "      <td>0.35%</td>\n",
       "    </tr>\n",
       "    <tr>\n",
       "      <th>2</th>\n",
       "      <td>Datetime – utc</td>\n",
       "      <td>0</td>\n",
       "      <td>0.00%</td>\n",
       "    </tr>\n",
       "    <tr>\n",
       "      <th>3</th>\n",
       "      <td>atm_pressure_main</td>\n",
       "      <td>0</td>\n",
       "      <td>0.00%</td>\n",
       "    </tr>\n",
       "    <tr>\n",
       "      <th>4</th>\n",
       "      <td>num_of_resets</td>\n",
       "      <td>0</td>\n",
       "      <td>0.00%</td>\n",
       "    </tr>\n",
       "    <tr>\n",
       "      <th>5</th>\n",
       "      <td>piezo_charge</td>\n",
       "      <td>0</td>\n",
       "      <td>0.00%</td>\n",
       "    </tr>\n",
       "    <tr>\n",
       "      <th>6</th>\n",
       "      <td>piezo_temperature</td>\n",
       "      <td>0</td>\n",
       "      <td>0.00%</td>\n",
       "    </tr>\n",
       "  </tbody>\n",
       "</table>\n",
       "</div>"
      ],
      "text/plain": [
       "              variable  number_of_missing percentage_of_missing\n",
       "0     air_humidity_100                  6                 0.35%\n",
       "1  air_temperature_100                  6                 0.35%\n",
       "2       Datetime – utc                  0                 0.00%\n",
       "3    atm_pressure_main                  0                 0.00%\n",
       "4        num_of_resets                  0                 0.00%\n",
       "5         piezo_charge                  0                 0.00%\n",
       "6    piezo_temperature                  0                 0.00%"
      ]
     },
     "execution_count": 12,
     "metadata": {},
     "output_type": "execute_result"
    }
   ],
   "source": [
    "def missingvalue(data):\n",
    "    missing_value = data.isnull().sum(axis=0).reset_index()\n",
    "    missing_value.columns = ['variable', 'number_of_missing']\n",
    "    missing_value['percentage_of_missing'] = (missing_value['number_of_missing']) / data.shape[0] * 100\n",
    "    mv = missing_value.sort_values('percentage_of_missing', ascending=False).reset_index(drop=True)\n",
    "    \n",
    "    # Formata a coluna 'percentage_of_missing' com o símbolo de porcentagem\n",
    "    mv['percentage_of_missing'] = mv['percentage_of_missing'].apply(lambda x: f'{x:.2f}%')\n",
    "    \n",
    "    return mv\n",
    "\n",
    "df_missing_sensor = missingvalue(df_sensor)\n",
    "df_missing_sensor"
   ]
  },
  {
   "cell_type": "code",
   "execution_count": 13,
   "metadata": {
    "colab": {
     "base_uri": "https://localhost:8080/",
     "height": 143
    },
    "id": "W2xCz8JpfAr-",
    "outputId": "2f97c3de-147c-499c-e2cb-cc2c15b5f2ee"
   },
   "outputs": [
    {
     "data": {
      "text/html": [
       "<div>\n",
       "<style scoped>\n",
       "    .dataframe tbody tr th:only-of-type {\n",
       "        vertical-align: middle;\n",
       "    }\n",
       "\n",
       "    .dataframe tbody tr th {\n",
       "        vertical-align: top;\n",
       "    }\n",
       "\n",
       "    .dataframe thead th {\n",
       "        text-align: right;\n",
       "    }\n",
       "</style>\n",
       "<table border=\"1\" class=\"dataframe\">\n",
       "  <thead>\n",
       "    <tr style=\"text-align: right;\">\n",
       "      <th></th>\n",
       "      <th>variable</th>\n",
       "      <th>number_of_missing</th>\n",
       "      <th>percentage_of_missing</th>\n",
       "    </tr>\n",
       "  </thead>\n",
       "  <tbody>\n",
       "    <tr>\n",
       "      <th>0</th>\n",
       "      <td>data</td>\n",
       "      <td>0</td>\n",
       "      <td>0.00%</td>\n",
       "    </tr>\n",
       "    <tr>\n",
       "      <th>1</th>\n",
       "      <td>Hora (Brasília)</td>\n",
       "      <td>0</td>\n",
       "      <td>0.00%</td>\n",
       "    </tr>\n",
       "    <tr>\n",
       "      <th>2</th>\n",
       "      <td>chuva</td>\n",
       "      <td>0</td>\n",
       "      <td>0.00%</td>\n",
       "    </tr>\n",
       "  </tbody>\n",
       "</table>\n",
       "</div>"
      ],
      "text/plain": [
       "          variable  number_of_missing percentage_of_missing\n",
       "0             data                  0                 0.00%\n",
       "1  Hora (Brasília)                  0                 0.00%\n",
       "2            chuva                  0                 0.00%"
      ]
     },
     "execution_count": 13,
     "metadata": {},
     "output_type": "execute_result"
    }
   ],
   "source": [
    "def missingvalue(data):\n",
    "    missing_value = data.isnull().sum(axis=0).reset_index()\n",
    "    missing_value.columns = ['variable', 'number_of_missing']\n",
    "    missing_value['percentage_of_missing'] = (missing_value['number_of_missing']) / data.shape[0] * 100\n",
    "    mv = missing_value.sort_values('percentage_of_missing', ascending=False).reset_index(drop=True)\n",
    "    \n",
    "    # Formata a coluna 'percentage_of_missing' com o símbolo de porcentagem\n",
    "    mv['percentage_of_missing'] = mv['percentage_of_missing'].apply(lambda x: f'{x:.2f}%')\n",
    "    \n",
    "    return mv\n",
    "\n",
    "df_missing_estacao = missingvalue(df_estacao)\n",
    "df_missing_estacao \n"
   ]
  },
  {
   "cell_type": "markdown",
   "metadata": {
    "id": "4lyq78txfM7Z"
   },
   "source": [
    "**Considerações**\n",
    "\n",
    "- Pode-se observar que temos menos que $1$% de valores ausente na base dedados `df_senor` para as colunas **air_humidity_100** e  **air_temperature_100**, por esse motivos vamos exclui-los da nossa base de dados."
   ]
  },
  {
   "cell_type": "code",
   "execution_count": 14,
   "metadata": {
    "colab": {
     "base_uri": "https://localhost:8080/"
    },
    "id": "Wziz7JNKewEL",
    "outputId": "92a66f08-d454-49ae-b0b4-50cba4912c3c"
   },
   "outputs": [
    {
     "data": {
      "text/plain": [
       "Datetime – utc         0\n",
       "air_humidity_100       0\n",
       "air_temperature_100    0\n",
       "atm_pressure_main      0\n",
       "num_of_resets          0\n",
       "piezo_charge           0\n",
       "piezo_temperature      0\n",
       "dtype: int64"
      ]
     },
     "execution_count": 14,
     "metadata": {},
     "output_type": "execute_result"
    }
   ],
   "source": [
    "df_sensor.dropna(inplace=True)\n",
    "df_sensor.isnull().sum()"
   ]
  },
  {
   "cell_type": "markdown",
   "metadata": {
    "id": "7XLW5Ejes2v2"
   },
   "source": [
    "#### **Juntando as Bases**\n",
    "- Excluindo algumas colunas que não apresentam grande impacto no modelo"
   ]
  },
  {
   "cell_type": "code",
   "execution_count": 15,
   "metadata": {
    "colab": {
     "base_uri": "https://localhost:8080/",
     "height": 206
    },
    "id": "VccORbRyswZN",
    "outputId": "f99c80de-25b0-4d1e-ac5e-d78a8ae27c66"
   },
   "outputs": [
    {
     "data": {
      "text/html": [
       "<div>\n",
       "<style scoped>\n",
       "    .dataframe tbody tr th:only-of-type {\n",
       "        vertical-align: middle;\n",
       "    }\n",
       "\n",
       "    .dataframe tbody tr th {\n",
       "        vertical-align: top;\n",
       "    }\n",
       "\n",
       "    .dataframe thead th {\n",
       "        text-align: right;\n",
       "    }\n",
       "</style>\n",
       "<table border=\"1\" class=\"dataframe\">\n",
       "  <thead>\n",
       "    <tr style=\"text-align: right;\">\n",
       "      <th></th>\n",
       "      <th>air_humidity_100</th>\n",
       "      <th>air_temperature_100</th>\n",
       "      <th>atm_pressure_main</th>\n",
       "      <th>num_of_resets</th>\n",
       "      <th>piezo_charge</th>\n",
       "      <th>piezo_temperature</th>\n",
       "      <th>chuva</th>\n",
       "    </tr>\n",
       "  </thead>\n",
       "  <tbody>\n",
       "    <tr>\n",
       "      <th>0</th>\n",
       "      <td>38.00</td>\n",
       "      <td>31.37</td>\n",
       "      <td>9412.00</td>\n",
       "      <td>0.00</td>\n",
       "      <td>45123.00</td>\n",
       "      <td>30.00</td>\n",
       "      <td>0.00</td>\n",
       "    </tr>\n",
       "    <tr>\n",
       "      <th>2</th>\n",
       "      <td>39.00</td>\n",
       "      <td>31.37</td>\n",
       "      <td>9419.00</td>\n",
       "      <td>0.00</td>\n",
       "      <td>44923.00</td>\n",
       "      <td>31.00</td>\n",
       "      <td>0.00</td>\n",
       "    </tr>\n",
       "    <tr>\n",
       "      <th>3</th>\n",
       "      <td>39.00</td>\n",
       "      <td>31.32</td>\n",
       "      <td>9419.00</td>\n",
       "      <td>0.00</td>\n",
       "      <td>44825.00</td>\n",
       "      <td>31.00</td>\n",
       "      <td>0.00</td>\n",
       "    </tr>\n",
       "    <tr>\n",
       "      <th>4</th>\n",
       "      <td>38.00</td>\n",
       "      <td>31.24</td>\n",
       "      <td>9416.00</td>\n",
       "      <td>0.00</td>\n",
       "      <td>44728.00</td>\n",
       "      <td>31.00</td>\n",
       "      <td>0.00</td>\n",
       "    </tr>\n",
       "    <tr>\n",
       "      <th>5</th>\n",
       "      <td>39.00</td>\n",
       "      <td>30.83</td>\n",
       "      <td>9411.00</td>\n",
       "      <td>0.00</td>\n",
       "      <td>44632.00</td>\n",
       "      <td>30.00</td>\n",
       "      <td>0.00</td>\n",
       "    </tr>\n",
       "  </tbody>\n",
       "</table>\n",
       "</div>"
      ],
      "text/plain": [
       "   air_humidity_100  air_temperature_100  atm_pressure_main  num_of_resets  \\\n",
       "0             38.00                31.37            9412.00           0.00   \n",
       "2             39.00                31.37            9419.00           0.00   \n",
       "3             39.00                31.32            9419.00           0.00   \n",
       "4             38.00                31.24            9416.00           0.00   \n",
       "5             39.00                30.83            9411.00           0.00   \n",
       "\n",
       "   piezo_charge  piezo_temperature  chuva  \n",
       "0      45123.00              30.00   0.00  \n",
       "2      44923.00              31.00   0.00  \n",
       "3      44825.00              31.00   0.00  \n",
       "4      44728.00              31.00   0.00  \n",
       "5      44632.00              30.00   0.00  "
      ]
     },
     "execution_count": 15,
     "metadata": {},
     "output_type": "execute_result"
    }
   ],
   "source": [
    "df = pd.concat([df_sensor, df_estacao], axis=1)\n",
    "df = df.drop(columns=['Datetime – utc', 'data', 'Hora (Brasília)'], axis=1)\n",
    "df.head()"
   ]
  },
  {
   "cell_type": "markdown",
   "metadata": {
    "id": "7X_gjB5ceg7g"
   },
   "source": [
    "#### *Eliminando Duplicidade e Valores ausentes adicionados na EDA*"
   ]
  },
  {
   "cell_type": "code",
   "execution_count": 16,
   "metadata": {
    "colab": {
     "base_uri": "https://localhost:8080/",
     "height": 206
    },
    "id": "i23YoaTshTU5",
    "outputId": "62e9cd1e-574f-49f2-edee-5486aac5e21b"
   },
   "outputs": [
    {
     "data": {
      "text/html": [
       "<div>\n",
       "<style scoped>\n",
       "    .dataframe tbody tr th:only-of-type {\n",
       "        vertical-align: middle;\n",
       "    }\n",
       "\n",
       "    .dataframe tbody tr th {\n",
       "        vertical-align: top;\n",
       "    }\n",
       "\n",
       "    .dataframe thead th {\n",
       "        text-align: right;\n",
       "    }\n",
       "</style>\n",
       "<table border=\"1\" class=\"dataframe\">\n",
       "  <thead>\n",
       "    <tr style=\"text-align: right;\">\n",
       "      <th></th>\n",
       "      <th>air_humidity_100</th>\n",
       "      <th>air_temperature_100</th>\n",
       "      <th>atm_pressure_main</th>\n",
       "      <th>num_of_resets</th>\n",
       "      <th>piezo_charge</th>\n",
       "      <th>piezo_temperature</th>\n",
       "      <th>chuva</th>\n",
       "    </tr>\n",
       "  </thead>\n",
       "  <tbody>\n",
       "    <tr>\n",
       "      <th>0</th>\n",
       "      <td>38.00</td>\n",
       "      <td>31.37</td>\n",
       "      <td>9412.00</td>\n",
       "      <td>0.00</td>\n",
       "      <td>45123.00</td>\n",
       "      <td>30.00</td>\n",
       "      <td>0.00</td>\n",
       "    </tr>\n",
       "    <tr>\n",
       "      <th>2</th>\n",
       "      <td>39.00</td>\n",
       "      <td>31.37</td>\n",
       "      <td>9419.00</td>\n",
       "      <td>0.00</td>\n",
       "      <td>44923.00</td>\n",
       "      <td>31.00</td>\n",
       "      <td>0.00</td>\n",
       "    </tr>\n",
       "    <tr>\n",
       "      <th>3</th>\n",
       "      <td>39.00</td>\n",
       "      <td>31.32</td>\n",
       "      <td>9419.00</td>\n",
       "      <td>0.00</td>\n",
       "      <td>44825.00</td>\n",
       "      <td>31.00</td>\n",
       "      <td>0.00</td>\n",
       "    </tr>\n",
       "    <tr>\n",
       "      <th>4</th>\n",
       "      <td>38.00</td>\n",
       "      <td>31.24</td>\n",
       "      <td>9416.00</td>\n",
       "      <td>0.00</td>\n",
       "      <td>44728.00</td>\n",
       "      <td>31.00</td>\n",
       "      <td>0.00</td>\n",
       "    </tr>\n",
       "    <tr>\n",
       "      <th>5</th>\n",
       "      <td>39.00</td>\n",
       "      <td>30.83</td>\n",
       "      <td>9411.00</td>\n",
       "      <td>0.00</td>\n",
       "      <td>44632.00</td>\n",
       "      <td>30.00</td>\n",
       "      <td>0.00</td>\n",
       "    </tr>\n",
       "  </tbody>\n",
       "</table>\n",
       "</div>"
      ],
      "text/plain": [
       "   air_humidity_100  air_temperature_100  atm_pressure_main  num_of_resets  \\\n",
       "0             38.00                31.37            9412.00           0.00   \n",
       "2             39.00                31.37            9419.00           0.00   \n",
       "3             39.00                31.32            9419.00           0.00   \n",
       "4             38.00                31.24            9416.00           0.00   \n",
       "5             39.00                30.83            9411.00           0.00   \n",
       "\n",
       "   piezo_charge  piezo_temperature  chuva  \n",
       "0      45123.00              30.00   0.00  \n",
       "2      44923.00              31.00   0.00  \n",
       "3      44825.00              31.00   0.00  \n",
       "4      44728.00              31.00   0.00  \n",
       "5      44632.00              30.00   0.00  "
      ]
     },
     "execution_count": 16,
     "metadata": {},
     "output_type": "execute_result"
    }
   ],
   "source": [
    "df.dropna(inplace=True)\n",
    "df.drop_duplicates(inplace=True)\n",
    "df.head()"
   ]
  },
  {
   "cell_type": "code",
   "execution_count": 17,
   "metadata": {
    "colab": {
     "base_uri": "https://localhost:8080/"
    },
    "id": "hDlvF33BhjUX",
    "outputId": "458cb684-3cc5-4e71-d68c-568eecbc6e06"
   },
   "outputs": [
    {
     "data": {
      "text/plain": [
       "(1705, 7)"
      ]
     },
     "execution_count": 17,
     "metadata": {},
     "output_type": "execute_result"
    }
   ],
   "source": [
    "df.shape"
   ]
  },
  {
   "cell_type": "markdown",
   "metadata": {},
   "source": [
    "- **Salvando a base de dados limpa**"
   ]
  },
  {
   "cell_type": "code",
   "execution_count": 18,
   "metadata": {},
   "outputs": [],
   "source": [
    "# Salvando o DataFrame como arquivo CSV\n",
    "nome_arquivo_csv = 'df_clear.csv'\n",
    "df.to_csv(nome_arquivo_csv, index=False)"
   ]
  },
  {
   "cell_type": "markdown",
   "metadata": {
    "id": "XOCplF01h0r7"
   },
   "source": [
    "#### **Análise Matemática** - Estatística Descritiva"
   ]
  },
  {
   "cell_type": "code",
   "execution_count": 20,
   "metadata": {},
   "outputs": [
    {
     "data": {
      "image/png": "[encoded data removed]",
      "text/plain": [
       "<Figure size 720x449.28 with 1 Axes>"
      ]
     },
     "metadata": {
      "needs_background": "light"
     },
     "output_type": "display_data"
    }
   ],
   "source": [
    "def plot_heatmap(dataframe):\n",
    "    f, ax = plt.subplots(figsize=(10, dataframe.shape[1]*0.78))\n",
    "    sns.heatmap(dataframe,\n",
    "                annot=True,\n",
    "                cmap=\"viridis\",\n",
    "                fmt='.2f',\n",
    "                ax=ax,\n",
    "                linecolor='white',\n",
    "                linewidths=1.3,\n",
    "                cbar=False,\n",
    "                annot_kws={\"size\": 12})\n",
    "    plt.xticks(size=18)\n",
    "    plt.yticks(size=14, rotation=0)\n",
    "    plt.title(\"Estatística Descritiva\", size=20)\n",
    "    plt.show()\n",
    "\n",
    "def desc_stats(dataframe):\n",
    "    desc = dataframe.describe().T\n",
    "    plot_heatmap(desc)\n",
    "\n",
    "desc_stats(df.select_dtypes(include=[np.number]))\n"
   ]
  },
  {
   "cell_type": "markdown",
   "metadata": {
    "id": "lJhq2FJziS36"
   },
   "source": [
    "#### **Criando algumas Visualizações**"
   ]
  },
  {
   "cell_type": "code",
   "execution_count": 21,
   "metadata": {
    "colab": {
     "base_uri": "https://localhost:8080/",
     "height": 458
    },
    "id": "3KtQmh_niW0-",
    "outputId": "08f4b9bb-b4e9-4e3f-d66e-de72bf9d925e"
   },
   "outputs": [
    {
     "data": {
      "image/png": "[encoded data removed]",
      "text/plain": [
       "<Figure size 432x288 with 1 Axes>"
      ]
     },
     "metadata": {},
     "output_type": "display_data"
    }
   ],
   "source": [
    "# Analisando as distribuições do índice de massa corporal\n",
    "sns.set_style(\"darkgrid\")\n",
    "plt.tight_layout()\n",
    "\n",
    "sns.histplot(data=df, x='piezo_charge');"
   ]
  },
  {
   "cell_type": "code",
   "execution_count": 22,
   "metadata": {
    "colab": {
     "base_uri": "https://localhost:8080/",
     "height": 458
    },
    "id": "JMATa-4uikmP",
    "outputId": "ebdb7338-85b1-4504-e250-1e9ed4496de5"
   },
   "outputs": [
    {
     "data": {
      "image/png": "[encoded data removed]",
      "text/plain": [
       "<Figure size 432x288 with 1 Axes>"
      ]
     },
     "metadata": {},
     "output_type": "display_data"
    }
   ],
   "source": [
    "# Analisando a variável target: valor do seguro\n",
    "sns.histplot(data=df['chuva']);"
   ]
  },
  {
   "cell_type": "code",
   "execution_count": 23,
   "metadata": {
    "colab": {
     "base_uri": "https://localhost:8080/",
     "height": 458
    },
    "id": "l2xWNpmXiw2j",
    "outputId": "a6aa42a3-801e-43a6-a4ee-c02f2c607d70"
   },
   "outputs": [
    {
     "data": {
      "image/png": "[encoded data removed]",
      "text/plain": [
       "<Figure size 432x288 with 1 Axes>"
      ]
     },
     "metadata": {},
     "output_type": "display_data"
    }
   ],
   "source": [
    "# Analisando a variável target: valor do seguro\n",
    "sns.histplot(data=df['num_of_resets']);"
   ]
  },
  {
   "cell_type": "code",
   "execution_count": 24,
   "metadata": {
    "colab": {
     "base_uri": "https://localhost:8080/",
     "height": 855
    },
    "id": "FO3-Tmx9i3ij",
    "outputId": "671e1998-2a14-4e7e-e271-429ee0d19623"
   },
   "outputs": [
    {
     "data": {
      "image/png": "[encoded data removed]",
      "text/plain": [
       "<Figure size 1440x1080 with 8 Axes>"
      ]
     },
     "metadata": {},
     "output_type": "display_data"
    }
   ],
   "source": [
    "# list of numerical variables to plot\n",
    "num_vars = num_vars_to_plot = df.select_dtypes(include=[np.number])\n",
    "\n",
    "#['air_humidity_100', 'air_temperature_100', 'atm_pressure_main',\n",
    " #           'num_of_resets', 'piezo_charge', 'piezo_temperature','chuva']\n",
    "\n",
    "# create figure with subplots\n",
    "fig, axs = plt.subplots(nrows=3, ncols=3, figsize=(20, 15))\n",
    "axs = axs.flatten()\n",
    "\n",
    "# create violinplot for each numerical variable\n",
    "for i, var in enumerate(num_vars):\n",
    "    sns.boxplot(x=var, data=df, ax=axs[i])\n",
    "\n",
    "# adjust spacing between subplots\n",
    "fig.tight_layout()\n",
    "\n",
    "# remove the 12th subplot\n",
    "fig.delaxes(axs[8])\n",
    "\n",
    "plt.show();"
   ]
  },
  {
   "cell_type": "code",
   "execution_count": 25,
   "metadata": {
    "colab": {
     "base_uri": "https://localhost:8080/",
     "height": 851
    },
    "id": "4eF3MArAjFMV",
    "outputId": "939debe9-5e0a-49fd-f57f-20880aab0950"
   },
   "outputs": [
    {
     "data": {
      "image/png": "[encoded data removed]",
      "text/plain": [
       "<Figure size 1440x1080 with 8 Axes>"
      ]
     },
     "metadata": {},
     "output_type": "display_data"
    }
   ],
   "source": [
    "# list of numerical variables to plot\n",
    "num_vars = df.select_dtypes(include=[np.number])\n",
    "\n",
    "# create figure with subplots\n",
    "fig, axs = plt.subplots(nrows=3, ncols=3, figsize=(20, 15))\n",
    "axs = axs.flatten()\n",
    "\n",
    "# create violinplot for each numerical variable\n",
    "for i, var in enumerate(num_vars):\n",
    "    sns.violinplot(x=var, data=df, ax=axs[i])\n",
    "\n",
    "# adjust spacing between subplots\n",
    "fig.tight_layout()\n",
    "\n",
    "# remove the 12th subplot\n",
    "fig.delaxes(axs[8])\n",
    "\n",
    "plt.show()"
   ]
  },
  {
   "cell_type": "code",
   "execution_count": null,
   "metadata": {},
   "outputs": [],
   "source": []
  },
  {
   "cell_type": "markdown",
   "metadata": {
    "id": "zII6dvJfTC-Y"
   },
   "source": [
    "## <font color='Blue'> **3° Preparação dos Dados**  </font> $ →$ <font color='Black'> *Pré-Processamento*  </font>"
   ]
  },
  {
   "cell_type": "markdown",
   "metadata": {
    "id": "DsNzQd8zjVLR"
   },
   "source": [
    "##### **Analisando a Correlação entre as variáveis**"
   ]
  },
  {
   "cell_type": "code",
   "execution_count": 26,
   "metadata": {
    "colab": {
     "base_uri": "https://localhost:8080/",
     "height": 1000
    },
    "id": "KFtTvVuVjc3B",
    "outputId": "258e2bc7-d5ff-46e2-f4fd-1698552dc481"
   },
   "outputs": [
    {
     "data": {
      "image/png": "[encoded data removed]",
      "text/plain": [
       "<Figure size 720x720 with 2 Axes>"
      ]
     },
     "metadata": {},
     "output_type": "display_data"
    }
   ],
   "source": [
    "corr = df.corr()\n",
    "plt.figure(figsize = (10, 10))\n",
    "plt.title('Correlação entre features')\n",
    "sns.heatmap(corr,\n",
    "            cmap = 'Blues',\n",
    "            annot = True,\n",
    "            vmin=-1,\n",
    "            vmax=1,\n",
    "            linewidths=2\n",
    "           );"
   ]
  },
  {
   "cell_type": "markdown",
   "metadata": {
    "id": "_CCo9uH5ju-W"
   },
   "source": [
    "- **Filtrando as Variáveis com correlação superior que $85$%**"
   ]
  },
  {
   "cell_type": "code",
   "execution_count": 27,
   "metadata": {
    "colab": {
     "base_uri": "https://localhost:8080/"
    },
    "id": "BvYUGdQXj7jf",
    "outputId": "7c978f47-82e7-41ea-8350-f7b5e252954f"
   },
   "outputs": [
    {
     "name": "stdout",
     "output_type": "stream",
     "text": [
      "As Variáveis mais correlacionadas são → [['air_temperature_100', 'piezo_temperature'], ['piezo_temperature', 'air_temperature_100']]\n"
     ]
    }
   ],
   "source": [
    "p = 0.85 # correlação mínima\n",
    "var = []\n",
    "for i in corr.columns:\n",
    "    for j in corr.columns:\n",
    "        if(i != j):\n",
    "            if np.abs(corr[i][j]) > p: # se for maior do que |p|\n",
    "                var.append([i,j])\n",
    "print('As Variáveis mais correlacionadas são → {}'.format(var))"
   ]
  },
  {
   "cell_type": "markdown",
   "metadata": {
    "id": "xNiH76cQkm3v"
   },
   "source": [
    "**Considerações**\n",
    "\n",
    "- Pode-se observar que temos uma alta correlação entre as variáveis:\n",
    "\n",
    "  - *air_temperature_100*\n",
    "\n",
    "  - *piezo_temperature*\n",
    "\n",
    "- Essas variáveis estão altamente correlaciondas, e isso pode nos gerar um problema conehcido como *multicollinearity*. Para resolver esse problema, vamos eliminar uma delas. Nesse caso, vamos eliminar a variável **piezo_temperature** dos nossos dados, porque não podemos permanecer com as duas variáveis visto que estão tratando de um problema de regressão."
   ]
  },
  {
   "cell_type": "code",
   "execution_count": 28,
   "metadata": {
    "colab": {
     "base_uri": "https://localhost:8080/",
     "height": 206
    },
    "id": "ukUhMEuSlseg",
    "outputId": "ce60a630-d581-484f-bb00-bededc4fafb3"
   },
   "outputs": [
    {
     "data": {
      "text/html": [
       "<div>\n",
       "<style scoped>\n",
       "    .dataframe tbody tr th:only-of-type {\n",
       "        vertical-align: middle;\n",
       "    }\n",
       "\n",
       "    .dataframe tbody tr th {\n",
       "        vertical-align: top;\n",
       "    }\n",
       "\n",
       "    .dataframe thead th {\n",
       "        text-align: right;\n",
       "    }\n",
       "</style>\n",
       "<table border=\"1\" class=\"dataframe\">\n",
       "  <thead>\n",
       "    <tr style=\"text-align: right;\">\n",
       "      <th></th>\n",
       "      <th>air_humidity_100</th>\n",
       "      <th>air_temperature_100</th>\n",
       "      <th>atm_pressure_main</th>\n",
       "      <th>num_of_resets</th>\n",
       "      <th>piezo_charge</th>\n",
       "      <th>chuva</th>\n",
       "    </tr>\n",
       "  </thead>\n",
       "  <tbody>\n",
       "    <tr>\n",
       "      <th>0</th>\n",
       "      <td>38.00</td>\n",
       "      <td>31.37</td>\n",
       "      <td>9412.00</td>\n",
       "      <td>0.00</td>\n",
       "      <td>45123.00</td>\n",
       "      <td>0.00</td>\n",
       "    </tr>\n",
       "    <tr>\n",
       "      <th>2</th>\n",
       "      <td>39.00</td>\n",
       "      <td>31.37</td>\n",
       "      <td>9419.00</td>\n",
       "      <td>0.00</td>\n",
       "      <td>44923.00</td>\n",
       "      <td>0.00</td>\n",
       "    </tr>\n",
       "    <tr>\n",
       "      <th>3</th>\n",
       "      <td>39.00</td>\n",
       "      <td>31.32</td>\n",
       "      <td>9419.00</td>\n",
       "      <td>0.00</td>\n",
       "      <td>44825.00</td>\n",
       "      <td>0.00</td>\n",
       "    </tr>\n",
       "    <tr>\n",
       "      <th>4</th>\n",
       "      <td>38.00</td>\n",
       "      <td>31.24</td>\n",
       "      <td>9416.00</td>\n",
       "      <td>0.00</td>\n",
       "      <td>44728.00</td>\n",
       "      <td>0.00</td>\n",
       "    </tr>\n",
       "    <tr>\n",
       "      <th>5</th>\n",
       "      <td>39.00</td>\n",
       "      <td>30.83</td>\n",
       "      <td>9411.00</td>\n",
       "      <td>0.00</td>\n",
       "      <td>44632.00</td>\n",
       "      <td>0.00</td>\n",
       "    </tr>\n",
       "  </tbody>\n",
       "</table>\n",
       "</div>"
      ],
      "text/plain": [
       "   air_humidity_100  air_temperature_100  atm_pressure_main  num_of_resets  \\\n",
       "0             38.00                31.37            9412.00           0.00   \n",
       "2             39.00                31.37            9419.00           0.00   \n",
       "3             39.00                31.32            9419.00           0.00   \n",
       "4             38.00                31.24            9416.00           0.00   \n",
       "5             39.00                30.83            9411.00           0.00   \n",
       "\n",
       "   piezo_charge  chuva  \n",
       "0      45123.00   0.00  \n",
       "2      44923.00   0.00  \n",
       "3      44825.00   0.00  \n",
       "4      44728.00   0.00  \n",
       "5      44632.00   0.00  "
      ]
     },
     "execution_count": 28,
     "metadata": {},
     "output_type": "execute_result"
    }
   ],
   "source": [
    "df.drop(columns=['piezo_temperature'], axis=1, inplace=True)\n",
    "df.head()"
   ]
  },
  {
   "cell_type": "markdown",
   "metadata": {
    "id": "CSDEmpxymiAy"
   },
   "source": [
    "#### **Separando as variáveis em Independentes e dependente**:\n",
    "\n",
    "- **Preditoras** *(Variáveis Independentes)* $→$ $(X)$\n",
    "\n",
    "- **Target** *(Variável dependente)* $→$ $(y)$\n",
    "\n",
    "Ou seja, vamos definir quem é o $X$ e quem é o $y$."
   ]
  },
  {
   "cell_type": "code",
   "execution_count": 29,
   "metadata": {
    "id": "YqWsUn5Rmi4o"
   },
   "outputs": [],
   "source": [
    "# Sperando em X e y\n",
    "X = df.drop('chuva', axis=1)\n",
    "y = df[['chuva']]"
   ]
  },
  {
   "cell_type": "code",
   "execution_count": 30,
   "metadata": {
    "colab": {
     "base_uri": "https://localhost:8080/",
     "height": 206
    },
    "id": "ftGv5KcMm2oK",
    "outputId": "2e488c18-de1a-43a4-dbfc-f926a7ca021e"
   },
   "outputs": [
    {
     "data": {
      "text/html": [
       "<div>\n",
       "<style scoped>\n",
       "    .dataframe tbody tr th:only-of-type {\n",
       "        vertical-align: middle;\n",
       "    }\n",
       "\n",
       "    .dataframe tbody tr th {\n",
       "        vertical-align: top;\n",
       "    }\n",
       "\n",
       "    .dataframe thead th {\n",
       "        text-align: right;\n",
       "    }\n",
       "</style>\n",
       "<table border=\"1\" class=\"dataframe\">\n",
       "  <thead>\n",
       "    <tr style=\"text-align: right;\">\n",
       "      <th></th>\n",
       "      <th>air_humidity_100</th>\n",
       "      <th>air_temperature_100</th>\n",
       "      <th>atm_pressure_main</th>\n",
       "      <th>num_of_resets</th>\n",
       "      <th>piezo_charge</th>\n",
       "    </tr>\n",
       "  </thead>\n",
       "  <tbody>\n",
       "    <tr>\n",
       "      <th>0</th>\n",
       "      <td>38.00</td>\n",
       "      <td>31.37</td>\n",
       "      <td>9412.00</td>\n",
       "      <td>0.00</td>\n",
       "      <td>45123.00</td>\n",
       "    </tr>\n",
       "    <tr>\n",
       "      <th>2</th>\n",
       "      <td>39.00</td>\n",
       "      <td>31.37</td>\n",
       "      <td>9419.00</td>\n",
       "      <td>0.00</td>\n",
       "      <td>44923.00</td>\n",
       "    </tr>\n",
       "    <tr>\n",
       "      <th>3</th>\n",
       "      <td>39.00</td>\n",
       "      <td>31.32</td>\n",
       "      <td>9419.00</td>\n",
       "      <td>0.00</td>\n",
       "      <td>44825.00</td>\n",
       "    </tr>\n",
       "    <tr>\n",
       "      <th>4</th>\n",
       "      <td>38.00</td>\n",
       "      <td>31.24</td>\n",
       "      <td>9416.00</td>\n",
       "      <td>0.00</td>\n",
       "      <td>44728.00</td>\n",
       "    </tr>\n",
       "    <tr>\n",
       "      <th>5</th>\n",
       "      <td>39.00</td>\n",
       "      <td>30.83</td>\n",
       "      <td>9411.00</td>\n",
       "      <td>0.00</td>\n",
       "      <td>44632.00</td>\n",
       "    </tr>\n",
       "  </tbody>\n",
       "</table>\n",
       "</div>"
      ],
      "text/plain": [
       "   air_humidity_100  air_temperature_100  atm_pressure_main  num_of_resets  \\\n",
       "0             38.00                31.37            9412.00           0.00   \n",
       "2             39.00                31.37            9419.00           0.00   \n",
       "3             39.00                31.32            9419.00           0.00   \n",
       "4             38.00                31.24            9416.00           0.00   \n",
       "5             39.00                30.83            9411.00           0.00   \n",
       "\n",
       "   piezo_charge  \n",
       "0      45123.00  \n",
       "2      44923.00  \n",
       "3      44825.00  \n",
       "4      44728.00  \n",
       "5      44632.00  "
      ]
     },
     "execution_count": 30,
     "metadata": {},
     "output_type": "execute_result"
    }
   ],
   "source": [
    "# Visualizando as variáveis preditoras\n",
    "X.head()"
   ]
  },
  {
   "cell_type": "code",
   "execution_count": 31,
   "metadata": {
    "colab": {
     "base_uri": "https://localhost:8080/",
     "height": 206
    },
    "id": "-qG0_BCIm5HD",
    "outputId": "2f06bd5b-d1f6-4f87-e9b4-309ea703a226"
   },
   "outputs": [
    {
     "data": {
      "text/html": [
       "<div>\n",
       "<style scoped>\n",
       "    .dataframe tbody tr th:only-of-type {\n",
       "        vertical-align: middle;\n",
       "    }\n",
       "\n",
       "    .dataframe tbody tr th {\n",
       "        vertical-align: top;\n",
       "    }\n",
       "\n",
       "    .dataframe thead th {\n",
       "        text-align: right;\n",
       "    }\n",
       "</style>\n",
       "<table border=\"1\" class=\"dataframe\">\n",
       "  <thead>\n",
       "    <tr style=\"text-align: right;\">\n",
       "      <th></th>\n",
       "      <th>chuva</th>\n",
       "    </tr>\n",
       "  </thead>\n",
       "  <tbody>\n",
       "    <tr>\n",
       "      <th>0</th>\n",
       "      <td>0.00</td>\n",
       "    </tr>\n",
       "    <tr>\n",
       "      <th>2</th>\n",
       "      <td>0.00</td>\n",
       "    </tr>\n",
       "    <tr>\n",
       "      <th>3</th>\n",
       "      <td>0.00</td>\n",
       "    </tr>\n",
       "    <tr>\n",
       "      <th>4</th>\n",
       "      <td>0.00</td>\n",
       "    </tr>\n",
       "    <tr>\n",
       "      <th>5</th>\n",
       "      <td>0.00</td>\n",
       "    </tr>\n",
       "  </tbody>\n",
       "</table>\n",
       "</div>"
      ],
      "text/plain": [
       "   chuva\n",
       "0   0.00\n",
       "2   0.00\n",
       "3   0.00\n",
       "4   0.00\n",
       "5   0.00"
      ]
     },
     "execution_count": 31,
     "metadata": {},
     "output_type": "execute_result"
    }
   ],
   "source": [
    "# Visualizando a variável dependente\n",
    "y.head()"
   ]
  },
  {
   "cell_type": "markdown",
   "metadata": {
    "id": "yBsu6lPcnDHI"
   },
   "source": [
    "### **Separando os dados em**:\n",
    "\n",
    "- *Dados de treino*\n",
    "\n",
    "- *Dados de teste*"
   ]
  },
  {
   "cell_type": "code",
   "execution_count": 32,
   "metadata": {
    "colab": {
     "base_uri": "https://localhost:8080/"
    },
    "id": "KLnXQBcVnF14",
    "outputId": "419d27f0-cba8-4e59-e439-c8c69bdaba05"
   },
   "outputs": [
    {
     "data": {
      "text/plain": [
       "((1364, 5), (341, 5), (1364, 1), (341, 1))"
      ]
     },
     "execution_count": 32,
     "metadata": {},
     "output_type": "execute_result"
    }
   ],
   "source": [
    "# Devolve uma tupla com 4 elementos: X de treino, X de teste, y de treino, y de teste\n",
    "X_treino, X_teste, y_treino, y_teste = train_test_split(X, # preditoras\n",
    "                                                        y, # target\n",
    "                                                        test_size=.2,\n",
    "                                                        random_state=42)\n",
    "\n",
    "# Vamos ver quantas linhas ficamos com treino e teste\n",
    "X_treino.shape, X_teste.shape, y_treino.shape, y_teste.shape"
   ]
  },
  {
   "cell_type": "markdown",
   "metadata": {
    "id": "PDsdfg9wnqVY"
   },
   "source": [
    "### <font color = 'Chocol'> **Normalizando os Dados**</font>\n",
    "- **A normalização é quando os dados estão no intervalo entre** $0$ e $1$"
   ]
  },
  {
   "cell_type": "code",
   "execution_count": 33,
   "metadata": {
    "colab": {
     "base_uri": "https://localhost:8080/"
    },
    "id": "uti8Ez8Nnrha",
    "outputId": "340787fe-27d5-4e36-8fce-dfc89d5d1c77"
   },
   "outputs": [
    {
     "data": {
      "text/plain": [
       "((1364, 5), (341, 5))"
      ]
     },
     "execution_count": 33,
     "metadata": {},
     "output_type": "execute_result"
    }
   ],
   "source": [
    "# Criar scaler\n",
    "scaler = MinMaxScaler()\n",
    "\n",
    "colunas = X_treino.columns\n",
    "\n",
    "# Parte importante!! Fit no treino! Transform no treino e teste\n",
    "X_treino[colunas] = scaler.fit_transform(X_treino)\n",
    "X_teste[colunas] = scaler.transform(X_teste)\n",
    "\n",
    "X_treino.shape, X_teste.shape"
   ]
  },
  {
   "cell_type": "code",
   "execution_count": 34,
   "metadata": {
    "colab": {
     "base_uri": "https://localhost:8080/",
     "height": 206
    },
    "id": "HVHG7g05n3W_",
    "outputId": "1a6b1a7e-a056-4b27-c29e-ec4620234071"
   },
   "outputs": [
    {
     "data": {
      "text/html": [
       "<div>\n",
       "<style scoped>\n",
       "    .dataframe tbody tr th:only-of-type {\n",
       "        vertical-align: middle;\n",
       "    }\n",
       "\n",
       "    .dataframe tbody tr th {\n",
       "        vertical-align: top;\n",
       "    }\n",
       "\n",
       "    .dataframe thead th {\n",
       "        text-align: right;\n",
       "    }\n",
       "</style>\n",
       "<table border=\"1\" class=\"dataframe\">\n",
       "  <thead>\n",
       "    <tr style=\"text-align: right;\">\n",
       "      <th></th>\n",
       "      <th>air_humidity_100</th>\n",
       "      <th>air_temperature_100</th>\n",
       "      <th>atm_pressure_main</th>\n",
       "      <th>num_of_resets</th>\n",
       "      <th>piezo_charge</th>\n",
       "    </tr>\n",
       "  </thead>\n",
       "  <tbody>\n",
       "    <tr>\n",
       "      <th>1202</th>\n",
       "      <td>0.85</td>\n",
       "      <td>0.11</td>\n",
       "      <td>0.60</td>\n",
       "      <td>1.00</td>\n",
       "      <td>0.99</td>\n",
       "    </tr>\n",
       "    <tr>\n",
       "      <th>428</th>\n",
       "      <td>0.56</td>\n",
       "      <td>0.31</td>\n",
       "      <td>0.45</td>\n",
       "      <td>0.33</td>\n",
       "      <td>0.79</td>\n",
       "    </tr>\n",
       "    <tr>\n",
       "      <th>1674</th>\n",
       "      <td>0.62</td>\n",
       "      <td>0.30</td>\n",
       "      <td>0.50</td>\n",
       "      <td>1.00</td>\n",
       "      <td>0.13</td>\n",
       "    </tr>\n",
       "    <tr>\n",
       "      <th>581</th>\n",
       "      <td>0.84</td>\n",
       "      <td>0.23</td>\n",
       "      <td>0.37</td>\n",
       "      <td>0.33</td>\n",
       "      <td>0.52</td>\n",
       "    </tr>\n",
       "    <tr>\n",
       "      <th>554</th>\n",
       "      <td>0.80</td>\n",
       "      <td>0.28</td>\n",
       "      <td>0.49</td>\n",
       "      <td>0.33</td>\n",
       "      <td>0.56</td>\n",
       "    </tr>\n",
       "  </tbody>\n",
       "</table>\n",
       "</div>"
      ],
      "text/plain": [
       "      air_humidity_100  air_temperature_100  atm_pressure_main  num_of_resets  \\\n",
       "1202              0.85                 0.11               0.60           1.00   \n",
       "428               0.56                 0.31               0.45           0.33   \n",
       "1674              0.62                 0.30               0.50           1.00   \n",
       "581               0.84                 0.23               0.37           0.33   \n",
       "554               0.80                 0.28               0.49           0.33   \n",
       "\n",
       "      piezo_charge  \n",
       "1202          0.99  \n",
       "428           0.79  \n",
       "1674          0.13  \n",
       "581           0.52  \n",
       "554           0.56  "
      ]
     },
     "execution_count": 34,
     "metadata": {},
     "output_type": "execute_result"
    }
   ],
   "source": [
    "X_treino.head()"
   ]
  },
  {
   "cell_type": "code",
   "execution_count": 35,
   "metadata": {
    "colab": {
     "base_uri": "https://localhost:8080/",
     "height": 300
    },
    "id": "kpGMPCnJn8AI",
    "outputId": "ce30a4f3-bc8f-4bf7-f960-644dddaa9912"
   },
   "outputs": [
    {
     "data": {
      "text/html": [
       "<div>\n",
       "<style scoped>\n",
       "    .dataframe tbody tr th:only-of-type {\n",
       "        vertical-align: middle;\n",
       "    }\n",
       "\n",
       "    .dataframe tbody tr th {\n",
       "        vertical-align: top;\n",
       "    }\n",
       "\n",
       "    .dataframe thead th {\n",
       "        text-align: right;\n",
       "    }\n",
       "</style>\n",
       "<table border=\"1\" class=\"dataframe\">\n",
       "  <thead>\n",
       "    <tr style=\"text-align: right;\">\n",
       "      <th></th>\n",
       "      <th>air_humidity_100</th>\n",
       "      <th>air_temperature_100</th>\n",
       "      <th>atm_pressure_main</th>\n",
       "      <th>num_of_resets</th>\n",
       "      <th>piezo_charge</th>\n",
       "    </tr>\n",
       "  </thead>\n",
       "  <tbody>\n",
       "    <tr>\n",
       "      <th>count</th>\n",
       "      <td>1364.00</td>\n",
       "      <td>1364.00</td>\n",
       "      <td>1364.00</td>\n",
       "      <td>1364.00</td>\n",
       "      <td>1364.00</td>\n",
       "    </tr>\n",
       "    <tr>\n",
       "      <th>mean</th>\n",
       "      <td>0.55</td>\n",
       "      <td>0.40</td>\n",
       "      <td>0.53</td>\n",
       "      <td>0.56</td>\n",
       "      <td>0.53</td>\n",
       "    </tr>\n",
       "    <tr>\n",
       "      <th>std</th>\n",
       "      <td>0.26</td>\n",
       "      <td>0.20</td>\n",
       "      <td>0.17</td>\n",
       "      <td>0.36</td>\n",
       "      <td>0.27</td>\n",
       "    </tr>\n",
       "    <tr>\n",
       "      <th>min</th>\n",
       "      <td>0.00</td>\n",
       "      <td>0.00</td>\n",
       "      <td>0.00</td>\n",
       "      <td>0.00</td>\n",
       "      <td>0.00</td>\n",
       "    </tr>\n",
       "    <tr>\n",
       "      <th>25%</th>\n",
       "      <td>0.33</td>\n",
       "      <td>0.25</td>\n",
       "      <td>0.42</td>\n",
       "      <td>0.33</td>\n",
       "      <td>0.31</td>\n",
       "    </tr>\n",
       "    <tr>\n",
       "      <th>50%</th>\n",
       "      <td>0.56</td>\n",
       "      <td>0.35</td>\n",
       "      <td>0.53</td>\n",
       "      <td>0.67</td>\n",
       "      <td>0.51</td>\n",
       "    </tr>\n",
       "    <tr>\n",
       "      <th>75%</th>\n",
       "      <td>0.78</td>\n",
       "      <td>0.56</td>\n",
       "      <td>0.64</td>\n",
       "      <td>1.00</td>\n",
       "      <td>0.76</td>\n",
       "    </tr>\n",
       "    <tr>\n",
       "      <th>max</th>\n",
       "      <td>1.00</td>\n",
       "      <td>1.00</td>\n",
       "      <td>1.00</td>\n",
       "      <td>1.00</td>\n",
       "      <td>1.00</td>\n",
       "    </tr>\n",
       "  </tbody>\n",
       "</table>\n",
       "</div>"
      ],
      "text/plain": [
       "       air_humidity_100  air_temperature_100  atm_pressure_main  \\\n",
       "count           1364.00              1364.00            1364.00   \n",
       "mean               0.55                 0.40               0.53   \n",
       "std                0.26                 0.20               0.17   \n",
       "min                0.00                 0.00               0.00   \n",
       "25%                0.33                 0.25               0.42   \n",
       "50%                0.56                 0.35               0.53   \n",
       "75%                0.78                 0.56               0.64   \n",
       "max                1.00                 1.00               1.00   \n",
       "\n",
       "       num_of_resets  piezo_charge  \n",
       "count        1364.00       1364.00  \n",
       "mean            0.56          0.53  \n",
       "std             0.36          0.27  \n",
       "min             0.00          0.00  \n",
       "25%             0.33          0.31  \n",
       "50%             0.67          0.51  \n",
       "75%             1.00          0.76  \n",
       "max             1.00          1.00  "
      ]
     },
     "execution_count": 35,
     "metadata": {},
     "output_type": "execute_result"
    }
   ],
   "source": [
    "X_treino.describe()"
   ]
  },
  {
   "cell_type": "code",
   "execution_count": 36,
   "metadata": {
    "colab": {
     "base_uri": "https://localhost:8080/",
     "height": 300
    },
    "id": "nWOaWYmgoASb",
    "outputId": "448a5773-ae3a-43ca-9da4-a8f6a6da3f79"
   },
   "outputs": [
    {
     "data": {
      "text/html": [
       "<div>\n",
       "<style scoped>\n",
       "    .dataframe tbody tr th:only-of-type {\n",
       "        vertical-align: middle;\n",
       "    }\n",
       "\n",
       "    .dataframe tbody tr th {\n",
       "        vertical-align: top;\n",
       "    }\n",
       "\n",
       "    .dataframe thead th {\n",
       "        text-align: right;\n",
       "    }\n",
       "</style>\n",
       "<table border=\"1\" class=\"dataframe\">\n",
       "  <thead>\n",
       "    <tr style=\"text-align: right;\">\n",
       "      <th></th>\n",
       "      <th>air_humidity_100</th>\n",
       "      <th>air_temperature_100</th>\n",
       "      <th>atm_pressure_main</th>\n",
       "      <th>num_of_resets</th>\n",
       "      <th>piezo_charge</th>\n",
       "    </tr>\n",
       "  </thead>\n",
       "  <tbody>\n",
       "    <tr>\n",
       "      <th>count</th>\n",
       "      <td>341.00</td>\n",
       "      <td>341.00</td>\n",
       "      <td>341.00</td>\n",
       "      <td>341.00</td>\n",
       "      <td>341.00</td>\n",
       "    </tr>\n",
       "    <tr>\n",
       "      <th>mean</th>\n",
       "      <td>0.55</td>\n",
       "      <td>0.41</td>\n",
       "      <td>0.54</td>\n",
       "      <td>0.53</td>\n",
       "      <td>0.52</td>\n",
       "    </tr>\n",
       "    <tr>\n",
       "      <th>std</th>\n",
       "      <td>0.25</td>\n",
       "      <td>0.20</td>\n",
       "      <td>0.17</td>\n",
       "      <td>0.36</td>\n",
       "      <td>0.27</td>\n",
       "    </tr>\n",
       "    <tr>\n",
       "      <th>min</th>\n",
       "      <td>0.01</td>\n",
       "      <td>0.01</td>\n",
       "      <td>0.04</td>\n",
       "      <td>0.00</td>\n",
       "      <td>0.01</td>\n",
       "    </tr>\n",
       "    <tr>\n",
       "      <th>25%</th>\n",
       "      <td>0.33</td>\n",
       "      <td>0.25</td>\n",
       "      <td>0.43</td>\n",
       "      <td>0.33</td>\n",
       "      <td>0.30</td>\n",
       "    </tr>\n",
       "    <tr>\n",
       "      <th>50%</th>\n",
       "      <td>0.58</td>\n",
       "      <td>0.37</td>\n",
       "      <td>0.55</td>\n",
       "      <td>0.33</td>\n",
       "      <td>0.50</td>\n",
       "    </tr>\n",
       "    <tr>\n",
       "      <th>75%</th>\n",
       "      <td>0.76</td>\n",
       "      <td>0.56</td>\n",
       "      <td>0.65</td>\n",
       "      <td>1.00</td>\n",
       "      <td>0.76</td>\n",
       "    </tr>\n",
       "    <tr>\n",
       "      <th>max</th>\n",
       "      <td>0.98</td>\n",
       "      <td>1.00</td>\n",
       "      <td>1.01</td>\n",
       "      <td>1.00</td>\n",
       "      <td>1.00</td>\n",
       "    </tr>\n",
       "  </tbody>\n",
       "</table>\n",
       "</div>"
      ],
      "text/plain": [
       "       air_humidity_100  air_temperature_100  atm_pressure_main  \\\n",
       "count            341.00               341.00             341.00   \n",
       "mean               0.55                 0.41               0.54   \n",
       "std                0.25                 0.20               0.17   \n",
       "min                0.01                 0.01               0.04   \n",
       "25%                0.33                 0.25               0.43   \n",
       "50%                0.58                 0.37               0.55   \n",
       "75%                0.76                 0.56               0.65   \n",
       "max                0.98                 1.00               1.01   \n",
       "\n",
       "       num_of_resets  piezo_charge  \n",
       "count         341.00        341.00  \n",
       "mean            0.53          0.52  \n",
       "std             0.36          0.27  \n",
       "min             0.00          0.01  \n",
       "25%             0.33          0.30  \n",
       "50%             0.33          0.50  \n",
       "75%             1.00          0.76  \n",
       "max             1.00          1.00  "
      ]
     },
     "execution_count": 36,
     "metadata": {},
     "output_type": "execute_result"
    }
   ],
   "source": [
    "X_teste.describe()"
   ]
  },
  {
   "cell_type": "markdown",
   "metadata": {
    "id": "bMHH1JXmTiKf"
   },
   "source": [
    "## <font color='Blue'> **4° Modelagem**</font> $ →$ <font color='Black'> *Construção e a escolha do melhor do Modelo*  </font>"
   ]
  },
  {
   "cell_type": "markdown",
   "metadata": {
    "id": "SEOnlQSzoMH4"
   },
   "source": [
    "#### <font color='DeepSkyBlue'> **Construção e a escolha do melhor do Modelo**  </font>\n",
    "\n",
    "- Vamos treinar dois modelos.\n",
    "\n",
    "- Iremos utilizar **cross validation** para escolher o melhor modelo de forma a evitarmos o `overfit` e termos uma base boa para fazermos a  comparação entre os modelos"
   ]
  },
  {
   "cell_type": "markdown",
   "metadata": {
    "id": "IieIO6I6r_-C"
   },
   "source": [
    "### <font color='DeepSky'> **Random Forest Regressor**  </font>\n"
   ]
  },
  {
   "cell_type": "code",
   "execution_count": 37,
   "metadata": {
    "colab": {
     "base_uri": "https://localhost:8080/"
    },
    "id": "laGpUBUioQVZ",
    "outputId": "59882494-5b28-462a-d7be-5e3d005fd89a"
   },
   "outputs": [
    {
     "data": {
      "text/plain": [
       "array([-0.32609362, -0.19343586, -0.66032629, -0.10815075, -0.71204079,\n",
       "       -0.27452574, -0.19609834, -0.25390885, -0.0822675 , -0.21431937])"
      ]
     },
     "execution_count": 37,
     "metadata": {},
     "output_type": "execute_result"
    }
   ],
   "source": [
    "# Criando o estimador, algorimo, modelo, preditor, regressor (virge, que tanto de nome!)\n",
    "rf = RandomForestRegressor()\n",
    "\n",
    "# Vamos treinar utilizando cross validation\n",
    "valores_rmse_rf = cross_val_score(estimator=rf,\n",
    "                                  X=X_treino,\n",
    "                                  y=y_treino,\n",
    "                                  cv=10, # 10-fold CV\n",
    "                                  scoring='neg_root_mean_squared_error')\n",
    "valores_rmse_rf"
   ]
  },
  {
   "cell_type": "code",
   "execution_count": 38,
   "metadata": {
    "colab": {
     "base_uri": "https://localhost:8080/"
    },
    "id": "d9jP7Jg5oZ--",
    "outputId": "28023a10-336b-424f-ac14-a83566b23341"
   },
   "outputs": [
    {
     "data": {
      "text/plain": [
       "array([0.32609362, 0.19343586, 0.66032629, 0.10815075, 0.71204079,\n",
       "       0.27452574, 0.19609834, 0.25390885, 0.0822675 , 0.21431937])"
      ]
     },
     "execution_count": 38,
     "metadata": {},
     "output_type": "execute_result"
    }
   ],
   "source": [
    "valores_rmse_rf = valores_rmse_rf * -1\n",
    "valores_rmse_rf"
   ]
  },
  {
   "cell_type": "code",
   "execution_count": 39,
   "metadata": {
    "colab": {
     "base_uri": "https://localhost:8080/"
    },
    "id": "sQTqWet_oceP",
    "outputId": "62d92b0f-57dc-4918-f0bb-877f159f1f1f"
   },
   "outputs": [
    {
     "data": {
      "text/plain": [
       "0.3021167108358269"
      ]
     },
     "execution_count": 39,
     "metadata": {},
     "output_type": "execute_result"
    }
   ],
   "source": [
    "valores_rmse_rf = valores_rmse_rf.mean()\n",
    "valores_rmse_rf"
   ]
  },
  {
   "cell_type": "markdown",
   "metadata": {
    "id": "ULnxrpfIoiPQ"
   },
   "source": [
    "### <font color='DeepSky'> **Decision Tree Regressor**  </font>"
   ]
  },
  {
   "cell_type": "code",
   "execution_count": 40,
   "metadata": {
    "colab": {
     "base_uri": "https://localhost:8080/"
    },
    "id": "Braszwq-oi8A",
    "outputId": "4dd8e83e-c791-4857-db7a-f48150ed9104"
   },
   "outputs": [
    {
     "data": {
      "text/plain": [
       "array([-0.35432675, -0.31967136, -0.65735591, -0.01708715, -0.66950377,\n",
       "       -0.45341839, -0.27759471, -0.3666221 , -0.0420084 , -0.49259218])"
      ]
     },
     "execution_count": 40,
     "metadata": {},
     "output_type": "execute_result"
    }
   ],
   "source": [
    "dtree = DecisionTreeRegressor()\n",
    "\n",
    "# Vamos treinar utilizando cross validation (sempre!!)\n",
    "valores_rmse_dtree = cross_val_score(estimator=dtree,\n",
    "                                      X=X_treino,\n",
    "                                      y=y_treino,\n",
    "                                      cv=10, #\n",
    "                                  scoring='neg_root_mean_squared_error')\n",
    "valores_rmse_dtree"
   ]
  },
  {
   "cell_type": "code",
   "execution_count": 41,
   "metadata": {
    "colab": {
     "base_uri": "https://localhost:8080/"
    },
    "id": "BDTsuTwlooVO",
    "outputId": "4b8bd905-1ad0-4679-ee2e-7b92cf84bd0d"
   },
   "outputs": [
    {
     "data": {
      "text/plain": [
       "array([0.35432675, 0.31967136, 0.65735591, 0.01708715, 0.66950377,\n",
       "       0.45341839, 0.27759471, 0.3666221 , 0.0420084 , 0.49259218])"
      ]
     },
     "execution_count": 41,
     "metadata": {},
     "output_type": "execute_result"
    }
   ],
   "source": [
    "valores_rmse_dtree = valores_rmse_dtree * -1\n",
    "valores_rmse_dtree"
   ]
  },
  {
   "cell_type": "code",
   "execution_count": 42,
   "metadata": {
    "colab": {
     "base_uri": "https://localhost:8080/"
    },
    "id": "jShmXg7hopiz",
    "outputId": "8f117def-4b5b-4284-9f7e-ab31e0c35b55"
   },
   "outputs": [
    {
     "data": {
      "text/plain": [
       "0.36501807264649233"
      ]
     },
     "execution_count": 42,
     "metadata": {},
     "output_type": "execute_result"
    }
   ],
   "source": [
    "valores_rmse_dtree = valores_rmse_dtree.mean()\n",
    "valores_rmse_dtree"
   ]
  },
  {
   "cell_type": "markdown",
   "metadata": {
    "id": "mDC1Nr8PYgcH"
   },
   "source": [
    "### <font color='Dee'> **Comparando os modelos**  </font>"
   ]
  },
  {
   "cell_type": "code",
   "execution_count": 43,
   "metadata": {
    "colab": {
     "base_uri": "https://localhost:8080/",
     "height": 112
    },
    "id": "oyfqx1rF82Hc",
    "outputId": "8e9d9c5f-9398-4f5c-deee-bc9d27894079"
   },
   "outputs": [
    {
     "data": {
      "text/html": [
       "<div>\n",
       "<style scoped>\n",
       "    .dataframe tbody tr th:only-of-type {\n",
       "        vertical-align: middle;\n",
       "    }\n",
       "\n",
       "    .dataframe tbody tr th {\n",
       "        vertical-align: top;\n",
       "    }\n",
       "\n",
       "    .dataframe thead th {\n",
       "        text-align: right;\n",
       "    }\n",
       "</style>\n",
       "<table border=\"1\" class=\"dataframe\">\n",
       "  <thead>\n",
       "    <tr style=\"text-align: right;\">\n",
       "      <th></th>\n",
       "      <th>Modelos</th>\n",
       "      <th>RMSE</th>\n",
       "    </tr>\n",
       "  </thead>\n",
       "  <tbody>\n",
       "    <tr>\n",
       "      <th>0</th>\n",
       "      <td>Random Forest</td>\n",
       "      <td>0.30</td>\n",
       "    </tr>\n",
       "    <tr>\n",
       "      <th>1</th>\n",
       "      <td>Decision Tree</td>\n",
       "      <td>0.37</td>\n",
       "    </tr>\n",
       "  </tbody>\n",
       "</table>\n",
       "</div>"
      ],
      "text/plain": [
       "         Modelos  RMSE\n",
       "0  Random Forest  0.30\n",
       "1  Decision Tree  0.37"
      ]
     },
     "execution_count": 43,
     "metadata": {},
     "output_type": "execute_result"
    }
   ],
   "source": [
    "rmse_data = {\n",
    "    'Modelos': ['Random Forest', 'Decision Tree'],\n",
    "    'RMSE': [valores_rmse_rf, valores_rmse_dtree]\n",
    "}\n",
    "\n",
    "rmse_df = pd.DataFrame(rmse_data)\n",
    "rmse_df"
   ]
  },
  {
   "cell_type": "code",
   "execution_count": 44,
   "metadata": {
    "colab": {
     "base_uri": "https://localhost:8080/",
     "height": 573
    },
    "id": "y0hwd-GP3uD3",
    "outputId": "7018072e-dd0a-462d-9b04-13db93645881"
   },
   "outputs": [
    {
     "data": {
      "image/png": "[encoded data removed]",
      "text/plain": [
       "<Figure size 576x432 with 1 Axes>"
      ]
     },
     "metadata": {},
     "output_type": "display_data"
    }
   ],
   "source": [
    "data = {\n",
    "    'Modelos': ['Random Forest', 'Decision Tree'],\n",
    "    'RMSE': [0.31, 0.37]\n",
    "}\n",
    "\n",
    "df = pd.DataFrame(data)\n",
    "\n",
    "# Visualizando em um Gráfico de Barras\n",
    "plt.figure(figsize=(8, 6))\n",
    "sns.barplot(x='Modelos', y='RMSE', data=df, palette='Set2')\n",
    "plt.xlabel('Modelos')\n",
    "plt.ylabel('RMSE')\n",
    "plt.title('Comparação de RMSE entre Random Forest e Decision Tree')\n",
    "plt.show()"
   ]
  },
  {
   "cell_type": "markdown",
   "metadata": {
    "id": "0WCHsabOULDT"
   },
   "source": [
    "## <font color='Blue'> **5° Avaliação**</font> $ →$ <font color='Black'> *Avaliação dos Resultados dos Modelos*  </font>"
   ]
  },
  {
   "cell_type": "markdown",
   "metadata": {
    "id": "MjnATMnJt7_8"
   },
   "source": [
    "**Considerações**\n",
    "\n",
    "- Como pode-se observar o modelo campeão foi o **Random Forest Regressor**\n",
    "\n",
    "  - *Agora vamos treinar o nosso modelo utilizando a base de treino toda!*\n",
    "\n",
    "- *Depois que nosso modelo for terinado podemos fazer inferências dos valores do **Sensor de Chuva** no dados de teste*."
   ]
  },
  {
   "cell_type": "code",
   "execution_count": 45,
   "metadata": {
    "colab": {
     "base_uri": "https://localhost:8080/"
    },
    "id": "pkVmsFz2qer1",
    "outputId": "0b7ffb0c-ccb8-4ab7-8a5a-e05cddcf9f33"
   },
   "outputs": [
    {
     "data": {
      "text/plain": [
       "array([0.024, 0.   , 0.   , 0.   , 0.   , 0.   , 0.   , 0.   , 0.   ,\n",
       "       0.   ])"
      ]
     },
     "execution_count": 45,
     "metadata": {},
     "output_type": "execute_result"
    }
   ],
   "source": [
    "# Treinando o modelo\n",
    "rf.fit(X_treino, y_treino)\n",
    "\n",
    "sensor_predito = rf.predict(X_teste)\n",
    "sensor_predito[:10]"
   ]
  },
  {
   "cell_type": "code",
   "execution_count": 46,
   "metadata": {
    "colab": {
     "base_uri": "https://localhost:8080/"
    },
    "id": "VLTBjIdOrYlz",
    "outputId": "9c34e253-f296-4db6-8067-ed049a13f953"
   },
   "outputs": [
    {
     "data": {
      "text/plain": [
       "341"
      ]
     },
     "execution_count": 46,
     "metadata": {},
     "output_type": "execute_result"
    }
   ],
   "source": [
    "len(sensor_predito)"
   ]
  },
  {
   "cell_type": "code",
   "execution_count": 47,
   "metadata": {
    "colab": {
     "base_uri": "https://localhost:8080/",
     "height": 206
    },
    "id": "75Q6g0CMrcih",
    "outputId": "3d6df827-051d-4306-f741-675ec2090a61"
   },
   "outputs": [
    {
     "data": {
      "text/html": [
       "<div>\n",
       "<style scoped>\n",
       "    .dataframe tbody tr th:only-of-type {\n",
       "        vertical-align: middle;\n",
       "    }\n",
       "\n",
       "    .dataframe tbody tr th {\n",
       "        vertical-align: top;\n",
       "    }\n",
       "\n",
       "    .dataframe thead th {\n",
       "        text-align: right;\n",
       "    }\n",
       "</style>\n",
       "<table border=\"1\" class=\"dataframe\">\n",
       "  <thead>\n",
       "    <tr style=\"text-align: right;\">\n",
       "      <th></th>\n",
       "      <th>chuva</th>\n",
       "    </tr>\n",
       "  </thead>\n",
       "  <tbody>\n",
       "    <tr>\n",
       "      <th>1052</th>\n",
       "      <td>0.00</td>\n",
       "    </tr>\n",
       "    <tr>\n",
       "      <th>751</th>\n",
       "      <td>0.00</td>\n",
       "    </tr>\n",
       "    <tr>\n",
       "      <th>791</th>\n",
       "      <td>0.00</td>\n",
       "    </tr>\n",
       "    <tr>\n",
       "      <th>373</th>\n",
       "      <td>0.00</td>\n",
       "    </tr>\n",
       "    <tr>\n",
       "      <th>1035</th>\n",
       "      <td>0.00</td>\n",
       "    </tr>\n",
       "  </tbody>\n",
       "</table>\n",
       "</div>"
      ],
      "text/plain": [
       "      chuva\n",
       "1052   0.00\n",
       "751    0.00\n",
       "791    0.00\n",
       "373    0.00\n",
       "1035   0.00"
      ]
     },
     "execution_count": 47,
     "metadata": {},
     "output_type": "execute_result"
    }
   ],
   "source": [
    "y_teste.head()"
   ]
  },
  {
   "cell_type": "markdown",
   "metadata": {
    "id": "b2rGD11kxJcY"
   },
   "source": [
    "##### **Criando um DataFrame de comparação**"
   ]
  },
  {
   "cell_type": "code",
   "execution_count": 48,
   "metadata": {
    "colab": {
     "base_uri": "https://localhost:8080/",
     "height": 519
    },
    "id": "VThloTsErfzZ",
    "outputId": "fb58a2ea-37d9-46d8-d2db-1220af379d06"
   },
   "outputs": [
    {
     "data": {
      "text/html": [
       "<div>\n",
       "<style scoped>\n",
       "    .dataframe tbody tr th:only-of-type {\n",
       "        vertical-align: middle;\n",
       "    }\n",
       "\n",
       "    .dataframe tbody tr th {\n",
       "        vertical-align: top;\n",
       "    }\n",
       "\n",
       "    .dataframe thead th {\n",
       "        text-align: right;\n",
       "    }\n",
       "</style>\n",
       "<table border=\"1\" class=\"dataframe\">\n",
       "  <thead>\n",
       "    <tr style=\"text-align: right;\">\n",
       "      <th></th>\n",
       "      <th>predicao</th>\n",
       "      <th>real</th>\n",
       "      <th>diferenca_abs</th>\n",
       "    </tr>\n",
       "  </thead>\n",
       "  <tbody>\n",
       "    <tr>\n",
       "      <th>0</th>\n",
       "      <td>0.02</td>\n",
       "      <td>0.00</td>\n",
       "      <td>0.02</td>\n",
       "    </tr>\n",
       "    <tr>\n",
       "      <th>1</th>\n",
       "      <td>0.00</td>\n",
       "      <td>0.00</td>\n",
       "      <td>0.00</td>\n",
       "    </tr>\n",
       "    <tr>\n",
       "      <th>2</th>\n",
       "      <td>0.00</td>\n",
       "      <td>0.00</td>\n",
       "      <td>0.00</td>\n",
       "    </tr>\n",
       "    <tr>\n",
       "      <th>3</th>\n",
       "      <td>0.00</td>\n",
       "      <td>0.00</td>\n",
       "      <td>0.00</td>\n",
       "    </tr>\n",
       "    <tr>\n",
       "      <th>4</th>\n",
       "      <td>0.00</td>\n",
       "      <td>0.00</td>\n",
       "      <td>0.00</td>\n",
       "    </tr>\n",
       "    <tr>\n",
       "      <th>5</th>\n",
       "      <td>0.00</td>\n",
       "      <td>0.00</td>\n",
       "      <td>0.00</td>\n",
       "    </tr>\n",
       "    <tr>\n",
       "      <th>6</th>\n",
       "      <td>0.00</td>\n",
       "      <td>0.00</td>\n",
       "      <td>0.00</td>\n",
       "    </tr>\n",
       "    <tr>\n",
       "      <th>7</th>\n",
       "      <td>0.00</td>\n",
       "      <td>0.00</td>\n",
       "      <td>0.00</td>\n",
       "    </tr>\n",
       "    <tr>\n",
       "      <th>8</th>\n",
       "      <td>0.00</td>\n",
       "      <td>0.00</td>\n",
       "      <td>0.00</td>\n",
       "    </tr>\n",
       "    <tr>\n",
       "      <th>9</th>\n",
       "      <td>0.00</td>\n",
       "      <td>0.00</td>\n",
       "      <td>0.00</td>\n",
       "    </tr>\n",
       "    <tr>\n",
       "      <th>10</th>\n",
       "      <td>0.00</td>\n",
       "      <td>0.00</td>\n",
       "      <td>0.00</td>\n",
       "    </tr>\n",
       "    <tr>\n",
       "      <th>11</th>\n",
       "      <td>0.00</td>\n",
       "      <td>0.00</td>\n",
       "      <td>0.00</td>\n",
       "    </tr>\n",
       "    <tr>\n",
       "      <th>12</th>\n",
       "      <td>0.00</td>\n",
       "      <td>0.00</td>\n",
       "      <td>0.00</td>\n",
       "    </tr>\n",
       "    <tr>\n",
       "      <th>13</th>\n",
       "      <td>0.07</td>\n",
       "      <td>1.20</td>\n",
       "      <td>1.13</td>\n",
       "    </tr>\n",
       "    <tr>\n",
       "      <th>14</th>\n",
       "      <td>0.00</td>\n",
       "      <td>0.00</td>\n",
       "      <td>0.00</td>\n",
       "    </tr>\n",
       "  </tbody>\n",
       "</table>\n",
       "</div>"
      ],
      "text/plain": [
       "    predicao  real  diferenca_abs\n",
       "0       0.02  0.00           0.02\n",
       "1       0.00  0.00           0.00\n",
       "2       0.00  0.00           0.00\n",
       "3       0.00  0.00           0.00\n",
       "4       0.00  0.00           0.00\n",
       "5       0.00  0.00           0.00\n",
       "6       0.00  0.00           0.00\n",
       "7       0.00  0.00           0.00\n",
       "8       0.00  0.00           0.00\n",
       "9       0.00  0.00           0.00\n",
       "10      0.00  0.00           0.00\n",
       "11      0.00  0.00           0.00\n",
       "12      0.00  0.00           0.00\n",
       "13      0.07  1.20           1.13\n",
       "14      0.00  0.00           0.00"
      ]
     },
     "execution_count": 48,
     "metadata": {},
     "output_type": "execute_result"
    }
   ],
   "source": [
    "predicoes_vs_real = pd.DataFrame({'predicao': sensor_predito.flatten(), 'real': y_teste.values.flatten()})\n",
    "predicoes_vs_real['diferenca_abs'] = abs(predicoes_vs_real['predicao'] - predicoes_vs_real['real'])\n",
    "predicoes_vs_real.head(15)"
   ]
  },
  {
   "cell_type": "markdown",
   "metadata": {
    "id": "UddJ7u3sxQXI"
   },
   "source": [
    "##### **Visualizando o valor das metricas**"
   ]
  },
  {
   "cell_type": "code",
   "execution_count": 49,
   "metadata": {
    "colab": {
     "base_uri": "https://localhost:8080/"
    },
    "id": "u3R7GNeWylr2",
    "outputId": "df3b6cea-98ea-45b3-a690-cb89d72e289a"
   },
   "outputs": [
    {
     "name": "stdout",
     "output_type": "stream",
     "text": [
      "MAE is 0.03121407624633431\n",
      "MAPE is 101245145875138.48\n",
      "MSE is 0.01968717888563049\n",
      "R2 score is -1.749117167835526\n",
      "RMSE score is 0.14031100771368757\n"
     ]
    }
   ],
   "source": [
    "y_pred = rf.predict(X_teste)\n",
    "mae = mean_absolute_error(y_teste, y_pred)\n",
    "mape = mean_absolute_percentage_error(y_teste, y_pred)\n",
    "mse = mean_squared_error(y_teste, y_pred)\n",
    "r2 = r2_score(y_teste, y_pred)\n",
    "rmse = math.sqrt(mse)\n",
    "\n",
    "print('MAE is {}'.format(mae))\n",
    "print('MAPE is {}'.format(mape))\n",
    "print('MSE is {}'.format(mse))\n",
    "print('R2 score is {}'.format(r2))\n",
    "print('RMSE score is {}'.format(rmse))"
   ]
  },
  {
   "cell_type": "markdown",
   "metadata": {
    "id": "-N96lIOMJMee"
   },
   "source": [
    "### <font color = 'CornflowerBlue'> **Defindo os Hiperparâmetros para ajustar melhor os valores do nosso modelo**</font>\n",
    "\n"
   ]
  },
  {
   "cell_type": "code",
   "execution_count": 50,
   "metadata": {
    "colab": {
     "base_uri": "https://localhost:8080/"
    },
    "id": "cXmzLZP_JMee",
    "outputId": "f99dc91a-8815-485a-8944-6e11176960fd"
   },
   "outputs": [
    {
     "name": "stdout",
     "output_type": "stream",
     "text": [
      "Melhores hiperparâmetros:  {'max_depth': 3, 'max_features': 'sqrt', 'min_samples_leaf': 4, 'min_samples_split': 2, 'random_state': 0}\n"
     ]
    }
   ],
   "source": [
    "# Create a Random Forest Regressor object\n",
    "rf = RandomForestRegressor()\n",
    "\n",
    "# Define the hyperparameter grid\n",
    "param_grid = {\n",
    "    'max_depth': [3, 5, 7, 9],\n",
    "    'min_samples_split': [2, 5, 10],\n",
    "    'min_samples_leaf': [1, 2, 4],\n",
    "    'max_features': ['auto', 'sqrt'],\n",
    "    'random_state': [0, 42]\n",
    "}\n",
    "\n",
    "# Create a GridSearchCV object\n",
    "grid_search = GridSearchCV(rf, param_grid, cv=5, scoring='r2')\n",
    "\n",
    "# Fit the GridSearchCV object to the training data\n",
    "grid_search.fit(X_treino, y_treino)\n",
    "\n",
    "# Print the best hyperparameters\n",
    "print(\"Melhores hiperparâmetros: \", grid_search.best_params_)"
   ]
  },
  {
   "cell_type": "markdown",
   "metadata": {
    "id": "RPCw1o96vtwp"
   },
   "source": [
    "### <font color = 'Cornfl'> **Treinado e Avaliando**</font>"
   ]
  },
  {
   "cell_type": "code",
   "execution_count": 51,
   "metadata": {
    "colab": {
     "base_uri": "https://localhost:8080/",
     "height": 92
    },
    "id": "_UDvBifrJMef",
    "outputId": "4dc4a0ea-eb34-4e43-937e-a4726599f869"
   },
   "outputs": [
    {
     "data": {
      "text/plain": [
       "RandomForestRegressor(max_depth=7, max_features='sqrt', min_samples_leaf=4,\n",
       "                      random_state=43)"
      ]
     },
     "execution_count": 51,
     "metadata": {},
     "output_type": "execute_result"
    }
   ],
   "source": [
    "rf = RandomForestRegressor(random_state=43, max_depth=7, min_samples_split=2, min_samples_leaf=4,\n",
    "                           max_features='sqrt')\n",
    "rf.fit(X_treino, y_treino)"
   ]
  },
  {
   "cell_type": "code",
   "execution_count": 52,
   "metadata": {
    "colab": {
     "base_uri": "https://localhost:8080/"
    },
    "id": "wznVrZxoJMef",
    "outputId": "415cbcb0-30ac-4de5-c264-d5f5ec24e326"
   },
   "outputs": [
    {
     "name": "stdout",
     "output_type": "stream",
     "text": [
      "MAE is 0.030771810752051376\n",
      "MAPE is 95954594991575.53\n",
      "MSE is 0.009849190789240177\n",
      "R2 score is 0.37534075579262804\n",
      "RMSE score is 0.09924308937775052\n"
     ]
    }
   ],
   "source": [
    "y_pred = rf.predict(X_teste)\n",
    "mae = mean_absolute_error(y_teste, y_pred)\n",
    "mape = mean_absolute_percentage_error(y_teste, y_pred)\n",
    "mse = mean_squared_error(y_teste, y_pred)\n",
    "r2 = r2_score(y_teste, y_pred)\n",
    "rmse = math.sqrt(mse)\n",
    "\n",
    "print('MAE is {}'.format(mae))\n",
    "print('MAPE is {}'.format(mape))\n",
    "print('MSE is {}'.format(mse))\n",
    "print('R2 score is {}'.format(r2*(-1)))\n",
    "print('RMSE score is {}'.format(rmse))"
   ]
  },
  {
   "cell_type": "code",
   "execution_count": 53,
   "metadata": {
    "colab": {
     "base_uri": "https://localhost:8080/",
     "height": 206
    },
    "id": "br03gennFeRx",
    "outputId": "95293296-275b-47a8-cfa7-46c9cada1e4b"
   },
   "outputs": [
    {
     "data": {
      "text/html": [
       "<style type=\"text/css\">\n",
       "#T_928d5_row4_col1 {\n",
       "  background-color: yellow;\n",
       "}\n",
       "</style>\n",
       "<table id=\"T_928d5\">\n",
       "  <thead>\n",
       "    <tr>\n",
       "      <th class=\"blank level0\" >&nbsp;</th>\n",
       "      <th id=\"T_928d5_level0_col0\" class=\"col_heading level0 col0\" >Métrica</th>\n",
       "      <th id=\"T_928d5_level0_col1\" class=\"col_heading level0 col1\" >Valor</th>\n",
       "    </tr>\n",
       "  </thead>\n",
       "  <tbody>\n",
       "    <tr>\n",
       "      <th id=\"T_928d5_level0_row0\" class=\"row_heading level0 row0\" >0</th>\n",
       "      <td id=\"T_928d5_row0_col0\" class=\"data row0 col0\" >MAE</td>\n",
       "      <td id=\"T_928d5_row0_col1\" class=\"data row0 col1\" >0.030772</td>\n",
       "    </tr>\n",
       "    <tr>\n",
       "      <th id=\"T_928d5_level0_row1\" class=\"row_heading level0 row1\" >1</th>\n",
       "      <td id=\"T_928d5_row1_col0\" class=\"data row1 col0\" >MAPE</td>\n",
       "      <td id=\"T_928d5_row1_col1\" class=\"data row1 col1\" >95954594991575.531250</td>\n",
       "    </tr>\n",
       "    <tr>\n",
       "      <th id=\"T_928d5_level0_row2\" class=\"row_heading level0 row2\" >2</th>\n",
       "      <td id=\"T_928d5_row2_col0\" class=\"data row2 col0\" >MSE</td>\n",
       "      <td id=\"T_928d5_row2_col1\" class=\"data row2 col1\" >0.009849</td>\n",
       "    </tr>\n",
       "    <tr>\n",
       "      <th id=\"T_928d5_level0_row3\" class=\"row_heading level0 row3\" >3</th>\n",
       "      <td id=\"T_928d5_row3_col0\" class=\"data row3 col0\" >R2 score</td>\n",
       "      <td id=\"T_928d5_row3_col1\" class=\"data row3 col1\" >0.375341</td>\n",
       "    </tr>\n",
       "    <tr>\n",
       "      <th id=\"T_928d5_level0_row4\" class=\"row_heading level0 row4\" >4</th>\n",
       "      <td id=\"T_928d5_row4_col0\" class=\"data row4 col0\" >RMSE</td>\n",
       "      <td id=\"T_928d5_row4_col1\" class=\"data row4 col1\" >0.099243</td>\n",
       "    </tr>\n",
       "  </tbody>\n",
       "</table>\n"
      ],
      "text/plain": [
       "<pandas.io.formats.style.Styler at 0x28debafd520>"
      ]
     },
     "execution_count": 53,
     "metadata": {},
     "output_type": "execute_result"
    }
   ],
   "source": [
    "# Criar um dicionário com as métricas e valores\n",
    "data = {\n",
    "    'Métrica': ['MAE', 'MAPE', 'MSE', 'R2 score', 'RMSE'],\n",
    "    'Valor': [mae, mape, mse, r2*(-1), rmse]\n",
    "}\n",
    "\n",
    "# Criar o dataframe\n",
    "df1 = pd.DataFrame(data)\n",
    "\n",
    "# Definindo uma função para aplicar o estilo do background colorido\n",
    "def highlight_max(s):\n",
    "    is_max = s == s.max()\n",
    "    return ['background-color: yellow' if x==rmse else '' for v in is_max]\n",
    "\n",
    "# Aplicar o estilo para a coluna 'Valor'\n",
    "styled_df = df1.style.applymap(lambda x: 'background-color: yellow' if x == rmse else '',\n",
    "                              subset=pd.IndexSlice[df1['Métrica'] == 'RMSE', 'Valor'])\n",
    "\n",
    "# Exibir o dataframe com o estilo aplicado\n",
    "styled_df"
   ]
  },
  {
   "cell_type": "code",
   "execution_count": 54,
   "metadata": {
    "colab": {
     "base_uri": "https://localhost:8080/",
     "height": 527
    },
    "id": "eV5HIJwQ8wN0",
    "outputId": "bd0bd160-4034-4d0c-a847-a955dd43dc73"
   },
   "outputs": [
    {
     "data": {
      "image/png": "[encoded data removed]",
      "text/plain": [
       "<Figure size 720x432 with 1 Axes>"
      ]
     },
     "metadata": {},
     "output_type": "display_data"
    }
   ],
   "source": [
    "def plot_metricas(valores, metricas, cores):\n",
    "    # Aumentando o tamanho da figura\n",
    "    plt.figure(figsize=(10, 6))\n",
    "\n",
    "    # Criando o gráfico de barras verticais\n",
    "    plt.bar(metricas, valores, color=cores)\n",
    "\n",
    "    # Aplicando escala logarítmica ao eixo y\n",
    "    plt.yscale('log')\n",
    "\n",
    "    # Exibindo o gráfico\n",
    "    plt.show()\n",
    "\n",
    "# Exemplo de uso:\n",
    "valores = [0.03, 95954594991575.55, 0.01, 0.38, 0.10]\n",
    "metricas = ['MAE', 'MAPE', 'MSE', 'R2', 'RMSE']\n",
    "cores = ['blue', 'chocolate', 'red', 'purple', 'orange']\n",
    "plot_metricas(valores, metricas, cores)"
   ]
  },
  {
   "cell_type": "markdown",
   "metadata": {
    "id": "eK0ugmT_JSoQ"
   },
   "source": [
    "### <font color = 'CornflowerBlue'> **Verificando as Feature Importances**</font>"
   ]
  },
  {
   "cell_type": "code",
   "execution_count": 55,
   "metadata": {
    "colab": {
     "base_uri": "https://localhost:8080/",
     "height": 206
    },
    "id": "SUWG0O1ZWYCf",
    "outputId": "37c54eb7-ac50-45f9-c314-ffaeb1b22b16"
   },
   "outputs": [
    {
     "data": {
      "text/html": [
       "<style type=\"text/css\">\n",
       "#T_16252_row0_col1 {\n",
       "  background-color: lightblue;\n",
       "}\n",
       "</style>\n",
       "<table id=\"T_16252\">\n",
       "  <thead>\n",
       "    <tr>\n",
       "      <th class=\"blank level0\" >&nbsp;</th>\n",
       "      <th id=\"T_16252_level0_col0\" class=\"col_heading level0 col0\" >Feature</th>\n",
       "      <th id=\"T_16252_level0_col1\" class=\"col_heading level0 col1\" >Importance</th>\n",
       "    </tr>\n",
       "  </thead>\n",
       "  <tbody>\n",
       "    <tr>\n",
       "      <th id=\"T_16252_level0_row0\" class=\"row_heading level0 row0\" >4</th>\n",
       "      <td id=\"T_16252_row0_col0\" class=\"data row0 col0\" >piezo_charge</td>\n",
       "      <td id=\"T_16252_row0_col1\" class=\"data row0 col1\" >0.318155</td>\n",
       "    </tr>\n",
       "    <tr>\n",
       "      <th id=\"T_16252_level0_row1\" class=\"row_heading level0 row1\" >2</th>\n",
       "      <td id=\"T_16252_row1_col0\" class=\"data row1 col0\" >atm_pressure_main</td>\n",
       "      <td id=\"T_16252_row1_col1\" class=\"data row1 col1\" >0.295966</td>\n",
       "    </tr>\n",
       "    <tr>\n",
       "      <th id=\"T_16252_level0_row2\" class=\"row_heading level0 row2\" >1</th>\n",
       "      <td id=\"T_16252_row2_col0\" class=\"data row2 col0\" >air_temperature_100</td>\n",
       "      <td id=\"T_16252_row2_col1\" class=\"data row2 col1\" >0.240440</td>\n",
       "    </tr>\n",
       "    <tr>\n",
       "      <th id=\"T_16252_level0_row3\" class=\"row_heading level0 row3\" >0</th>\n",
       "      <td id=\"T_16252_row3_col0\" class=\"data row3 col0\" >air_humidity_100</td>\n",
       "      <td id=\"T_16252_row3_col1\" class=\"data row3 col1\" >0.096941</td>\n",
       "    </tr>\n",
       "    <tr>\n",
       "      <th id=\"T_16252_level0_row4\" class=\"row_heading level0 row4\" >3</th>\n",
       "      <td id=\"T_16252_row4_col0\" class=\"data row4 col0\" >num_of_resets</td>\n",
       "      <td id=\"T_16252_row4_col1\" class=\"data row4 col1\" >0.048499</td>\n",
       "    </tr>\n",
       "  </tbody>\n",
       "</table>\n"
      ],
      "text/plain": [
       "<pandas.io.formats.style.Styler at 0x28debe4a670>"
      ]
     },
     "execution_count": 55,
     "metadata": {},
     "output_type": "execute_result"
    }
   ],
   "source": [
    "# Obter a importância das features\n",
    "feature_importance = rf.feature_importances_\n",
    "\n",
    "# Criar um DataFrame para visualização\n",
    "feature_importance_df = pd.DataFrame({'Feature': X_treino.columns, 'Importance': feature_importance})\n",
    "\n",
    "# Classificar as features pela importância em ordem decrescente\n",
    "feature_importance_df = feature_importance_df.sort_values(by='Importance', ascending=False)\n",
    "\n",
    "# Definir a função para adicionar o background aos maiores valores\n",
    "def highlight_max_values(s):\n",
    "    is_max = s == s.max()\n",
    "    return ['background-color: lightblue' if v else '' for v in is_max]\n",
    "\n",
    "# Aplicar o estilo ao DataFrame\n",
    "styled_feature_importance_df = feature_importance_df.style.apply(highlight_max_values, subset=['Importance'])\n",
    "\n",
    "# Exibir o DataFrame com o background destacado\n",
    "styled_feature_importance_df"
   ]
  },
  {
   "cell_type": "code",
   "execution_count": 56,
   "metadata": {
    "colab": {
     "base_uri": "https://localhost:8080/",
     "height": 573
    },
    "id": "OtuKR9WQCAEE",
    "outputId": "5682b0f8-0b46-422c-eebd-436b4ea05ba7"
   },
   "outputs": [
    {
     "data": {
      "image/png": "[encoded data removed]",
      "text/plain": [
       "<Figure size 720x432 with 1 Axes>"
      ]
     },
     "metadata": {},
     "output_type": "display_data"
    }
   ],
   "source": [
    "# Passo 3: Obter a importância das features\n",
    "feature_importance = rf.feature_importances_\n",
    "\n",
    "# Passo 4: Criar um DataFrame para visualização\n",
    "feature_importance_df = pd.DataFrame({'Feature': X_treino.columns, 'Importance': feature_importance})\n",
    "\n",
    "# Passo 5: Classificar as features pela importância em ordem decrescente\n",
    "feature_importance_df = feature_importance_df.sort_values(by='Importance', ascending=False)\n",
    "\n",
    "# Passo 6: Plotar o gráfico de barras horizontal com cores diferentes para cada variável\n",
    "plt.figure(figsize=(10, 6))\n",
    "sns.barplot(x='Importance', y='Feature', data=feature_importance_df, palette='viridis')\n",
    "plt.xlabel('Importance')\n",
    "plt.ylabel('Feature')\n",
    "plt.title('Feature Importance - Random Forest Regressor')\n",
    "plt.show()"
   ]
  },
  {
   "cell_type": "markdown",
   "metadata": {
    "id": "iHTuLg7FwHx9"
   },
   "source": [
    "### <font color = 'Blue'> **Analisando a Contribuição das Variáveis para performance do modelo**</font>"
   ]
  },
  {
   "cell_type": "code",
   "execution_count": 57,
   "metadata": {
    "colab": {
     "base_uri": "https://localhost:8080/",
     "height": 351
    },
    "id": "9pWjkTUOzYC3",
    "outputId": "ce70ac01-40cc-42a5-f100-d40fe67dc584"
   },
   "outputs": [
    {
     "data": {
      "image/png": "[encoded data removed]",
      "text/plain": [
       "<Figure size 576x252 with 2 Axes>"
      ]
     },
     "metadata": {},
     "output_type": "display_data"
    }
   ],
   "source": [
    "# Gráfico das contribuições dos recursos\n",
    "explainer = shap.TreeExplainer(rf)\n",
    "shap_values = explainer.shap_values(X_teste)\n",
    "shap.summary_plot(shap_values, X_teste)"
   ]
  },
  {
   "cell_type": "code",
   "execution_count": 58,
   "metadata": {
    "colab": {
     "base_uri": "https://localhost:8080/",
     "height": 431
    },
    "id": "RwzVg7wTzfmZ",
    "outputId": "93e32586-8d30-4736-f469-084d196d1abd"
   },
   "outputs": [
    {
     "data": {
      "image/png": "[encoded data removed]",
      "text/plain": [
       "<Figure size 576x288 with 3 Axes>"
      ]
     },
     "metadata": {},
     "output_type": "display_data"
    }
   ],
   "source": [
    "explainer = shap.Explainer(rf, X_teste, check_additivity=False)\n",
    "shap_values = explainer(X_teste, check_additivity=False)\n",
    "shap.plots.waterfall(shap_values[0])"
   ]
  },
  {
   "cell_type": "markdown",
   "metadata": {
    "id": "wx8u9rgMFyww"
   },
   "source": [
    "### <font color = 'CornflowerBlue'> **Salvando o modelo**</font>"
   ]
  },
  {
   "cell_type": "code",
   "execution_count": 59,
   "metadata": {
    "id": "_YkMoBR3Gjkj"
   },
   "outputs": [],
   "source": [
    "# Criando um modelo Pickle para ser salvo\n",
    "import pickle\n",
    "filename = 'senor_chuva.pkl'\n",
    "pickle.dump(rf, open(filename, 'wb'))"
   ]
  }
 ],
 "metadata": {
  "colab": {
   "provenance": []
  },
  "kernelspec": {
   "display_name": "Python 3 (ipykernel)",
   "language": "python",
   "name": "python3"
  },
  "language_info": {
   "codemirror_mode": {
    "name": "ipython",
    "version": 3
   },
   "file_extension": ".py",
   "mimetype": "text/x-python",
   "name": "python",
   "nbconvert_exporter": "python",
   "pygments_lexer": "ipython3",
   "version": "3.9.12"
  }
 },
 "nbformat": 4,
 "nbformat_minor": 1
}
